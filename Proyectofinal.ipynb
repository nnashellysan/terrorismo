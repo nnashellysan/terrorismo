{
  "nbformat": 4,
  "nbformat_minor": 0,
  "metadata": {
    "colab": {
      "name": "Proyectofinal.ipynb",
      "provenance": []
    },
    "kernelspec": {
      "name": "python3",
      "display_name": "Python 3"
    }
  },
  "cells": [
    {
      "cell_type": "code",
      "metadata": {
        "id": "41fjWtsV37ot",
        "colab_type": "code",
        "colab": {}
      },
      "source": [
        "#Importando librerias\n",
        "import pandas as pd\n",
        "import numpy as np\n",
        "import missingno as msno\n",
        "%matplotlib inline\n",
        "import matplotlib.pyplot as plt\n",
        "import seaborn as sns\n",
        "import plotly.tools as tls\n",
        "import nltk\n",
        "import random\n",
        "import statistics\n",
        "from sklearn.preprocessing import MinMaxScaler\n",
        "from sklearn.cluster import KMeans\n",
        "from sklearn.mixture import GaussianMixture\n",
        "\n"
      ],
      "execution_count": 0,
      "outputs": []
    },
    {
      "cell_type": "code",
      "metadata": {
        "id": "ubbcI_SC8l4P",
        "colab_type": "code",
        "colab": {}
      },
      "source": [
        "#Importando los datos\n",
        "path='base_terrorismo.csv'\n",
        "terror=pd.read_csv(path,encoding='latin',error_bad_lines=False)\n",
        "terror.head()"
      ],
      "execution_count": 0,
      "outputs": []
    },
    {
      "cell_type": "markdown",
      "metadata": {
        "id": "5EeSc6XHMQoj",
        "colab_type": "text"
      },
      "source": [
        "## **ENTENDIENDO EL NEGOCIO**\n"
      ]
    },
    {
      "cell_type": "code",
      "metadata": {
        "id": "QytF7wlYBLT2",
        "colab_type": "code",
        "outputId": "9a06b672-2b31-40f1-db7f-52d22cff94c4",
        "colab": {
          "base_uri": "https://localhost:8080/"
        }
      },
      "source": [
        "terror2=terror.loc[:,['iyear','imonth','iday','extended','country_txt','region_txt','provstate','city','latitude','longitude','success','suicide','attacktype1_txt','targtype1_txt','targsubtype1','taget1','natlty1','gname','motive','guncertain1','nperps','weaptype1_txt','nkill']]"
      ],
      "execution_count": 0,
      "outputs": [
        {
          "output_type": "stream",
          "text": [
            "/usr/local/lib/python3.6/dist-packages/pandas/core/indexing.py:1418: FutureWarning:\n",
            "\n",
            "\n",
            "Passing list-likes to .loc or [] with any missing label will raise\n",
            "KeyError in the future, you can use .reindex() as an alternative.\n",
            "\n",
            "See the documentation here:\n",
            "https://pandas.pydata.org/pandas-docs/stable/user_guide/indexing.html#deprecate-loc-reindex-listlike\n",
            "\n"
          ],
          "name": "stderr"
        }
      ]
    },
    {
      "cell_type": "code",
      "metadata": {
        "id": "7_BJHon9BLXy",
        "colab_type": "code",
        "outputId": "4e82257f-cf31-4864-e771-8503eeb166d1",
        "colab": {
          "base_uri": "https://localhost:8080/"
        }
      },
      "source": [
        "terror2.head()"
      ],
      "execution_count": 0,
      "outputs": [
        {
          "output_type": "execute_result",
          "data": {
            "text/html": [
              "<div>\n",
              "<style scoped>\n",
              "    .dataframe tbody tr th:only-of-type {\n",
              "        vertical-align: middle;\n",
              "    }\n",
              "\n",
              "    .dataframe tbody tr th {\n",
              "        vertical-align: top;\n",
              "    }\n",
              "\n",
              "    .dataframe thead th {\n",
              "        text-align: right;\n",
              "    }\n",
              "</style>\n",
              "<table border=\"1\" class=\"dataframe\">\n",
              "  <thead>\n",
              "    <tr style=\"text-align: right;\">\n",
              "      <th></th>\n",
              "      <th>iyear</th>\n",
              "      <th>imonth</th>\n",
              "      <th>iday</th>\n",
              "      <th>extended</th>\n",
              "      <th>country_txt</th>\n",
              "      <th>region_txt</th>\n",
              "      <th>provstate</th>\n",
              "      <th>city</th>\n",
              "      <th>latitude</th>\n",
              "      <th>longitude</th>\n",
              "      <th>success</th>\n",
              "      <th>suicide</th>\n",
              "      <th>attacktype1_txt</th>\n",
              "      <th>targtype1_txt</th>\n",
              "      <th>targsubtype1</th>\n",
              "      <th>taget1</th>\n",
              "      <th>natlty1</th>\n",
              "      <th>gname</th>\n",
              "      <th>motive</th>\n",
              "      <th>guncertain1</th>\n",
              "      <th>nperps</th>\n",
              "      <th>weaptype1_txt</th>\n",
              "      <th>nkill</th>\n",
              "    </tr>\n",
              "  </thead>\n",
              "  <tbody>\n",
              "    <tr>\n",
              "      <th>0</th>\n",
              "      <td>1970</td>\n",
              "      <td>7</td>\n",
              "      <td>2</td>\n",
              "      <td>0</td>\n",
              "      <td>Dominican Republic</td>\n",
              "      <td>Central America &amp; Caribbean</td>\n",
              "      <td>NaN</td>\n",
              "      <td>Santo Domingo</td>\n",
              "      <td>18.456792</td>\n",
              "      <td>-69.951164</td>\n",
              "      <td>1</td>\n",
              "      <td>0</td>\n",
              "      <td>Assassination</td>\n",
              "      <td>Private Citizens &amp; Property</td>\n",
              "      <td>68.0</td>\n",
              "      <td>NaN</td>\n",
              "      <td>58.0</td>\n",
              "      <td>MANO-D</td>\n",
              "      <td>NaN</td>\n",
              "      <td>0.0</td>\n",
              "      <td>NaN</td>\n",
              "      <td>Unknown</td>\n",
              "      <td>1.0</td>\n",
              "    </tr>\n",
              "    <tr>\n",
              "      <th>1</th>\n",
              "      <td>1970</td>\n",
              "      <td>0</td>\n",
              "      <td>0</td>\n",
              "      <td>0</td>\n",
              "      <td>Mexico</td>\n",
              "      <td>North America</td>\n",
              "      <td>Federal</td>\n",
              "      <td>Mexico city</td>\n",
              "      <td>19.371887</td>\n",
              "      <td>-99.086624</td>\n",
              "      <td>1</td>\n",
              "      <td>0</td>\n",
              "      <td>Hostage Taking (Kidnapping)</td>\n",
              "      <td>Government (Diplomatic)</td>\n",
              "      <td>45.0</td>\n",
              "      <td>NaN</td>\n",
              "      <td>21.0</td>\n",
              "      <td>23rd of September Communist League</td>\n",
              "      <td>NaN</td>\n",
              "      <td>0.0</td>\n",
              "      <td>7.0</td>\n",
              "      <td>Unknown</td>\n",
              "      <td>0.0</td>\n",
              "    </tr>\n",
              "    <tr>\n",
              "      <th>2</th>\n",
              "      <td>1970</td>\n",
              "      <td>1</td>\n",
              "      <td>0</td>\n",
              "      <td>0</td>\n",
              "      <td>Philippines</td>\n",
              "      <td>Southeast Asia</td>\n",
              "      <td>Tarlac</td>\n",
              "      <td>Unknown</td>\n",
              "      <td>15.478598</td>\n",
              "      <td>120.599741</td>\n",
              "      <td>1</td>\n",
              "      <td>0</td>\n",
              "      <td>Assassination</td>\n",
              "      <td>Journalists &amp; Media</td>\n",
              "      <td>54.0</td>\n",
              "      <td>NaN</td>\n",
              "      <td>217.0</td>\n",
              "      <td>Unknown</td>\n",
              "      <td>NaN</td>\n",
              "      <td>0.0</td>\n",
              "      <td>NaN</td>\n",
              "      <td>Unknown</td>\n",
              "      <td>1.0</td>\n",
              "    </tr>\n",
              "    <tr>\n",
              "      <th>3</th>\n",
              "      <td>1970</td>\n",
              "      <td>1</td>\n",
              "      <td>0</td>\n",
              "      <td>0</td>\n",
              "      <td>Greece</td>\n",
              "      <td>Western Europe</td>\n",
              "      <td>Attica</td>\n",
              "      <td>Athens</td>\n",
              "      <td>37.997490</td>\n",
              "      <td>23.762728</td>\n",
              "      <td>1</td>\n",
              "      <td>0</td>\n",
              "      <td>Bombing/Explosion</td>\n",
              "      <td>Government (Diplomatic)</td>\n",
              "      <td>46.0</td>\n",
              "      <td>NaN</td>\n",
              "      <td>217.0</td>\n",
              "      <td>Unknown</td>\n",
              "      <td>NaN</td>\n",
              "      <td>0.0</td>\n",
              "      <td>NaN</td>\n",
              "      <td>Explosives</td>\n",
              "      <td>NaN</td>\n",
              "    </tr>\n",
              "    <tr>\n",
              "      <th>4</th>\n",
              "      <td>1970</td>\n",
              "      <td>1</td>\n",
              "      <td>0</td>\n",
              "      <td>0</td>\n",
              "      <td>Japan</td>\n",
              "      <td>East Asia</td>\n",
              "      <td>Fukouka</td>\n",
              "      <td>Fukouka</td>\n",
              "      <td>33.580412</td>\n",
              "      <td>130.396361</td>\n",
              "      <td>1</td>\n",
              "      <td>0</td>\n",
              "      <td>Facility/Infrastructure Attack</td>\n",
              "      <td>Government (Diplomatic)</td>\n",
              "      <td>46.0</td>\n",
              "      <td>NaN</td>\n",
              "      <td>217.0</td>\n",
              "      <td>Unknown</td>\n",
              "      <td>NaN</td>\n",
              "      <td>0.0</td>\n",
              "      <td>NaN</td>\n",
              "      <td>Incendiary</td>\n",
              "      <td>NaN</td>\n",
              "    </tr>\n",
              "  </tbody>\n",
              "</table>\n",
              "</div>"
            ],
            "text/plain": [
              "   iyear  imonth  iday  extended  ... guncertain1 nperps weaptype1_txt nkill\n",
              "0   1970       7     2         0  ...         0.0    NaN       Unknown   1.0\n",
              "1   1970       0     0         0  ...         0.0    7.0       Unknown   0.0\n",
              "2   1970       1     0         0  ...         0.0    NaN       Unknown   1.0\n",
              "3   1970       1     0         0  ...         0.0    NaN    Explosives   NaN\n",
              "4   1970       1     0         0  ...         0.0    NaN    Incendiary   NaN\n",
              "\n",
              "[5 rows x 23 columns]"
            ]
          },
          "metadata": {
            "tags": []
          },
          "execution_count": 6
        }
      ]
    },
    {
      "cell_type": "code",
      "metadata": {
        "id": "Pfv5jecDBLbK",
        "colab_type": "code",
        "outputId": "2405a20e-073d-4dc9-c368-fb826b709a56",
        "colab": {
          "base_uri": "https://localhost:8080/"
        }
      },
      "source": [
        "len(terror2.columns.to_list())"
      ],
      "execution_count": 0,
      "outputs": [
        {
          "output_type": "execute_result",
          "data": {
            "text/plain": [
              "23"
            ]
          },
          "metadata": {
            "tags": []
          },
          "execution_count": 7
        }
      ]
    },
    {
      "cell_type": "code",
      "metadata": {
        "id": "9pYqYiY3BLfN",
        "colab_type": "code",
        "colab": {}
      },
      "source": [
        "terror2.rename(columns={'iyear':'year','imonth':'month','iday':'day','country_txt':'country','region_txt':'region','attacktype1_txt':'attacktype','target1':'target','nkill':'killed','nwound':'wounded','summary':'summary','gname':'group','targtype1_txt':'target_type','weaptype1_txt':'weapon_type','motive':'motive'},inplace=True)\n"
      ],
      "execution_count": 0,
      "outputs": []
    },
    {
      "cell_type": "code",
      "metadata": {
        "id": "kkR9xv1EBLi7",
        "colab_type": "code",
        "outputId": "9a18ed2f-b8ed-4b2b-f6b1-aa86a0d8ce78",
        "colab": {
          "base_uri": "https://localhost:8080/"
        }
      },
      "source": [
        "terror2"
      ],
      "execution_count": 0,
      "outputs": [
        {
          "output_type": "execute_result",
          "data": {
            "text/html": [
              "<div>\n",
              "<style scoped>\n",
              "    .dataframe tbody tr th:only-of-type {\n",
              "        vertical-align: middle;\n",
              "    }\n",
              "\n",
              "    .dataframe tbody tr th {\n",
              "        vertical-align: top;\n",
              "    }\n",
              "\n",
              "    .dataframe thead th {\n",
              "        text-align: right;\n",
              "    }\n",
              "</style>\n",
              "<table border=\"1\" class=\"dataframe\">\n",
              "  <thead>\n",
              "    <tr style=\"text-align: right;\">\n",
              "      <th></th>\n",
              "      <th>year</th>\n",
              "      <th>month</th>\n",
              "      <th>day</th>\n",
              "      <th>extended</th>\n",
              "      <th>country</th>\n",
              "      <th>region</th>\n",
              "      <th>provstate</th>\n",
              "      <th>city</th>\n",
              "      <th>latitude</th>\n",
              "      <th>longitude</th>\n",
              "      <th>success</th>\n",
              "      <th>suicide</th>\n",
              "      <th>attacktype</th>\n",
              "      <th>target_type</th>\n",
              "      <th>targsubtype1</th>\n",
              "      <th>taget1</th>\n",
              "      <th>natlty1</th>\n",
              "      <th>group</th>\n",
              "      <th>motive</th>\n",
              "      <th>guncertain1</th>\n",
              "      <th>nperps</th>\n",
              "      <th>weapon_type</th>\n",
              "      <th>killed</th>\n",
              "    </tr>\n",
              "  </thead>\n",
              "  <tbody>\n",
              "    <tr>\n",
              "      <th>0</th>\n",
              "      <td>1970</td>\n",
              "      <td>7</td>\n",
              "      <td>2</td>\n",
              "      <td>0</td>\n",
              "      <td>Dominican Republic</td>\n",
              "      <td>Central America &amp; Caribbean</td>\n",
              "      <td>NaN</td>\n",
              "      <td>Santo Domingo</td>\n",
              "      <td>18.456792</td>\n",
              "      <td>-69.951164</td>\n",
              "      <td>1</td>\n",
              "      <td>0</td>\n",
              "      <td>Assassination</td>\n",
              "      <td>Private Citizens &amp; Property</td>\n",
              "      <td>68.0</td>\n",
              "      <td>NaN</td>\n",
              "      <td>58.0</td>\n",
              "      <td>MANO-D</td>\n",
              "      <td>NaN</td>\n",
              "      <td>0.0</td>\n",
              "      <td>NaN</td>\n",
              "      <td>Unknown</td>\n",
              "      <td>1.0</td>\n",
              "    </tr>\n",
              "    <tr>\n",
              "      <th>1</th>\n",
              "      <td>1970</td>\n",
              "      <td>0</td>\n",
              "      <td>0</td>\n",
              "      <td>0</td>\n",
              "      <td>Mexico</td>\n",
              "      <td>North America</td>\n",
              "      <td>Federal</td>\n",
              "      <td>Mexico city</td>\n",
              "      <td>19.371887</td>\n",
              "      <td>-99.086624</td>\n",
              "      <td>1</td>\n",
              "      <td>0</td>\n",
              "      <td>Hostage Taking (Kidnapping)</td>\n",
              "      <td>Government (Diplomatic)</td>\n",
              "      <td>45.0</td>\n",
              "      <td>NaN</td>\n",
              "      <td>21.0</td>\n",
              "      <td>23rd of September Communist League</td>\n",
              "      <td>NaN</td>\n",
              "      <td>0.0</td>\n",
              "      <td>7.0</td>\n",
              "      <td>Unknown</td>\n",
              "      <td>0.0</td>\n",
              "    </tr>\n",
              "    <tr>\n",
              "      <th>2</th>\n",
              "      <td>1970</td>\n",
              "      <td>1</td>\n",
              "      <td>0</td>\n",
              "      <td>0</td>\n",
              "      <td>Philippines</td>\n",
              "      <td>Southeast Asia</td>\n",
              "      <td>Tarlac</td>\n",
              "      <td>Unknown</td>\n",
              "      <td>15.478598</td>\n",
              "      <td>120.599741</td>\n",
              "      <td>1</td>\n",
              "      <td>0</td>\n",
              "      <td>Assassination</td>\n",
              "      <td>Journalists &amp; Media</td>\n",
              "      <td>54.0</td>\n",
              "      <td>NaN</td>\n",
              "      <td>217.0</td>\n",
              "      <td>Unknown</td>\n",
              "      <td>NaN</td>\n",
              "      <td>0.0</td>\n",
              "      <td>NaN</td>\n",
              "      <td>Unknown</td>\n",
              "      <td>1.0</td>\n",
              "    </tr>\n",
              "    <tr>\n",
              "      <th>3</th>\n",
              "      <td>1970</td>\n",
              "      <td>1</td>\n",
              "      <td>0</td>\n",
              "      <td>0</td>\n",
              "      <td>Greece</td>\n",
              "      <td>Western Europe</td>\n",
              "      <td>Attica</td>\n",
              "      <td>Athens</td>\n",
              "      <td>37.997490</td>\n",
              "      <td>23.762728</td>\n",
              "      <td>1</td>\n",
              "      <td>0</td>\n",
              "      <td>Bombing/Explosion</td>\n",
              "      <td>Government (Diplomatic)</td>\n",
              "      <td>46.0</td>\n",
              "      <td>NaN</td>\n",
              "      <td>217.0</td>\n",
              "      <td>Unknown</td>\n",
              "      <td>NaN</td>\n",
              "      <td>0.0</td>\n",
              "      <td>NaN</td>\n",
              "      <td>Explosives</td>\n",
              "      <td>NaN</td>\n",
              "    </tr>\n",
              "    <tr>\n",
              "      <th>4</th>\n",
              "      <td>1970</td>\n",
              "      <td>1</td>\n",
              "      <td>0</td>\n",
              "      <td>0</td>\n",
              "      <td>Japan</td>\n",
              "      <td>East Asia</td>\n",
              "      <td>Fukouka</td>\n",
              "      <td>Fukouka</td>\n",
              "      <td>33.580412</td>\n",
              "      <td>130.396361</td>\n",
              "      <td>1</td>\n",
              "      <td>0</td>\n",
              "      <td>Facility/Infrastructure Attack</td>\n",
              "      <td>Government (Diplomatic)</td>\n",
              "      <td>46.0</td>\n",
              "      <td>NaN</td>\n",
              "      <td>217.0</td>\n",
              "      <td>Unknown</td>\n",
              "      <td>NaN</td>\n",
              "      <td>0.0</td>\n",
              "      <td>NaN</td>\n",
              "      <td>Incendiary</td>\n",
              "      <td>NaN</td>\n",
              "    </tr>\n",
              "    <tr>\n",
              "      <th>...</th>\n",
              "      <td>...</td>\n",
              "      <td>...</td>\n",
              "      <td>...</td>\n",
              "      <td>...</td>\n",
              "      <td>...</td>\n",
              "      <td>...</td>\n",
              "      <td>...</td>\n",
              "      <td>...</td>\n",
              "      <td>...</td>\n",
              "      <td>...</td>\n",
              "      <td>...</td>\n",
              "      <td>...</td>\n",
              "      <td>...</td>\n",
              "      <td>...</td>\n",
              "      <td>...</td>\n",
              "      <td>...</td>\n",
              "      <td>...</td>\n",
              "      <td>...</td>\n",
              "      <td>...</td>\n",
              "      <td>...</td>\n",
              "      <td>...</td>\n",
              "      <td>...</td>\n",
              "      <td>...</td>\n",
              "    </tr>\n",
              "    <tr>\n",
              "      <th>181686</th>\n",
              "      <td>2017</td>\n",
              "      <td>12</td>\n",
              "      <td>31</td>\n",
              "      <td>0</td>\n",
              "      <td>Somalia</td>\n",
              "      <td>Sub-Saharan Africa</td>\n",
              "      <td>Middle Shebelle</td>\n",
              "      <td>Ceelka Geelow</td>\n",
              "      <td>2.359673</td>\n",
              "      <td>45.385034</td>\n",
              "      <td>1</td>\n",
              "      <td>0</td>\n",
              "      <td>Armed Assault</td>\n",
              "      <td>Military</td>\n",
              "      <td>36.0</td>\n",
              "      <td>NaN</td>\n",
              "      <td>182.0</td>\n",
              "      <td>Al-Shabaab</td>\n",
              "      <td>NaN</td>\n",
              "      <td>0.0</td>\n",
              "      <td>-99.0</td>\n",
              "      <td>Firearms</td>\n",
              "      <td>1.0</td>\n",
              "    </tr>\n",
              "    <tr>\n",
              "      <th>181687</th>\n",
              "      <td>2017</td>\n",
              "      <td>12</td>\n",
              "      <td>31</td>\n",
              "      <td>0</td>\n",
              "      <td>Syria</td>\n",
              "      <td>Middle East &amp; North Africa</td>\n",
              "      <td>Lattakia</td>\n",
              "      <td>Jableh</td>\n",
              "      <td>35.407278</td>\n",
              "      <td>35.942679</td>\n",
              "      <td>1</td>\n",
              "      <td>0</td>\n",
              "      <td>Bombing/Explosion</td>\n",
              "      <td>Military</td>\n",
              "      <td>27.0</td>\n",
              "      <td>NaN</td>\n",
              "      <td>167.0</td>\n",
              "      <td>Muslim extremists</td>\n",
              "      <td>NaN</td>\n",
              "      <td>0.0</td>\n",
              "      <td>-99.0</td>\n",
              "      <td>Explosives</td>\n",
              "      <td>2.0</td>\n",
              "    </tr>\n",
              "    <tr>\n",
              "      <th>181688</th>\n",
              "      <td>2017</td>\n",
              "      <td>12</td>\n",
              "      <td>31</td>\n",
              "      <td>0</td>\n",
              "      <td>Philippines</td>\n",
              "      <td>Southeast Asia</td>\n",
              "      <td>Maguindanao</td>\n",
              "      <td>Kubentog</td>\n",
              "      <td>6.900742</td>\n",
              "      <td>124.437908</td>\n",
              "      <td>1</td>\n",
              "      <td>0</td>\n",
              "      <td>Facility/Infrastructure Attack</td>\n",
              "      <td>Private Citizens &amp; Property</td>\n",
              "      <td>76.0</td>\n",
              "      <td>NaN</td>\n",
              "      <td>160.0</td>\n",
              "      <td>Bangsamoro Islamic Freedom Movement (BIFM)</td>\n",
              "      <td>NaN</td>\n",
              "      <td>0.0</td>\n",
              "      <td>-99.0</td>\n",
              "      <td>Incendiary</td>\n",
              "      <td>0.0</td>\n",
              "    </tr>\n",
              "    <tr>\n",
              "      <th>181689</th>\n",
              "      <td>2017</td>\n",
              "      <td>12</td>\n",
              "      <td>31</td>\n",
              "      <td>0</td>\n",
              "      <td>India</td>\n",
              "      <td>South Asia</td>\n",
              "      <td>Manipur</td>\n",
              "      <td>Imphal</td>\n",
              "      <td>24.798346</td>\n",
              "      <td>93.940430</td>\n",
              "      <td>0</td>\n",
              "      <td>0</td>\n",
              "      <td>Bombing/Explosion</td>\n",
              "      <td>Government (General)</td>\n",
              "      <td>21.0</td>\n",
              "      <td>NaN</td>\n",
              "      <td>92.0</td>\n",
              "      <td>Unknown</td>\n",
              "      <td>NaN</td>\n",
              "      <td>0.0</td>\n",
              "      <td>-99.0</td>\n",
              "      <td>Explosives</td>\n",
              "      <td>0.0</td>\n",
              "    </tr>\n",
              "    <tr>\n",
              "      <th>181690</th>\n",
              "      <td>2017</td>\n",
              "      <td>12</td>\n",
              "      <td>31</td>\n",
              "      <td>0</td>\n",
              "      <td>Philippines</td>\n",
              "      <td>Southeast Asia</td>\n",
              "      <td>Maguindanao</td>\n",
              "      <td>Cotabato City</td>\n",
              "      <td>7.209594</td>\n",
              "      <td>124.241966</td>\n",
              "      <td>0</td>\n",
              "      <td>0</td>\n",
              "      <td>Bombing/Explosion</td>\n",
              "      <td>Unknown</td>\n",
              "      <td>NaN</td>\n",
              "      <td>NaN</td>\n",
              "      <td>160.0</td>\n",
              "      <td>Unknown</td>\n",
              "      <td>NaN</td>\n",
              "      <td>0.0</td>\n",
              "      <td>-99.0</td>\n",
              "      <td>Explosives</td>\n",
              "      <td>0.0</td>\n",
              "    </tr>\n",
              "  </tbody>\n",
              "</table>\n",
              "<p>181691 rows × 23 columns</p>\n",
              "</div>"
            ],
            "text/plain": [
              "        year  month  day  extended  ... guncertain1 nperps weapon_type killed\n",
              "0       1970      7    2         0  ...         0.0    NaN     Unknown    1.0\n",
              "1       1970      0    0         0  ...         0.0    7.0     Unknown    0.0\n",
              "2       1970      1    0         0  ...         0.0    NaN     Unknown    1.0\n",
              "3       1970      1    0         0  ...         0.0    NaN  Explosives    NaN\n",
              "4       1970      1    0         0  ...         0.0    NaN  Incendiary    NaN\n",
              "...      ...    ...  ...       ...  ...         ...    ...         ...    ...\n",
              "181686  2017     12   31         0  ...         0.0  -99.0    Firearms    1.0\n",
              "181687  2017     12   31         0  ...         0.0  -99.0  Explosives    2.0\n",
              "181688  2017     12   31         0  ...         0.0  -99.0  Incendiary    0.0\n",
              "181689  2017     12   31         0  ...         0.0  -99.0  Explosives    0.0\n",
              "181690  2017     12   31         0  ...         0.0  -99.0  Explosives    0.0\n",
              "\n",
              "[181691 rows x 23 columns]"
            ]
          },
          "metadata": {
            "tags": []
          },
          "execution_count": 9
        }
      ]
    },
    {
      "cell_type": "code",
      "metadata": {
        "id": "YoDQ9usNBLJn",
        "colab_type": "code",
        "outputId": "4384ed64-0b73-4eb9-cc8a-8df47d8ca14f",
        "colab": {
          "base_uri": "https://localhost:8080/"
        }
      },
      "source": [
        "plt.subplots(figsize=(15,6))\n",
        "sns.countplot('year',data=terror2,palette='RdYlGn_r',edgecolor=sns.color_palette('dark',7))\n",
        "plt.xticks(rotation=90)\n",
        "plt.title('Número de ataques terrorista')\n",
        "plt.show()"
      ],
      "execution_count": 0,
      "outputs": [
        {
          "output_type": "display_data",
          "data": {
            "image/png": "[encoded data removed]",
            "text/plain": [
              "<Figure size 1080x432 with 1 Axes>"
            ]
          },
          "metadata": {
            "tags": []
          }
        }
      ]
    },
    {
      "cell_type": "code",
      "metadata": {
        "id": "htI_2Hnp7A5P",
        "colab_type": "code",
        "outputId": "716b9176-5439-4607-b230-d270d7b5c5dd",
        "colab": {
          "base_uri": "https://localhost:8080/"
        }
      },
      "source": [
        "plt.subplots(figsize=(15,6))\n",
        "sns.countplot('attacktype',data=terror2,palette='inferno',order=terror2['attacktype'].value_counts().index)\n",
        "plt.xticks(rotation=90)\n",
        "plt.title('Metodos de ataques terrorista')\n",
        "plt.show()"
      ],
      "execution_count": 0,
      "outputs": [
        {
          "output_type": "display_data",
          "data": {
            "image/png": "[encoded data removed]",
            "text/plain": [
              "<Figure size 1080x432 with 1 Axes>"
            ]
          },
          "metadata": {
            "tags": []
          }
        }
      ]
    },
    {
      "cell_type": "code",
      "metadata": {
        "id": "_JCHNokV7SkG",
        "colab_type": "code",
        "outputId": "197555d8-1edd-4c72-c0bf-f0bfc89baed0",
        "colab": {
          "base_uri": "https://localhost:8080/"
        }
      },
      "source": [
        "plt.subplots(figsize=(15,6))\n",
        "sns.countplot(terror2['target_type'],palette='inferno',order=terror2['target_type'].value_counts().index)\n",
        "plt.xticks(rotation=90)\n",
        "plt.title('Target afeectados por el terrorismo')\n",
        "plt.show()"
      ],
      "execution_count": 0,
      "outputs": [
        {
          "output_type": "display_data",
          "data": {
            "image/png": "[encoded data removed]",
            "text/plain": [
              "<Figure size 1080x432 with 1 Axes>"
            ]
          },
          "metadata": {
            "tags": []
          }
        }
      ]
    },
    {
      "cell_type": "code",
      "metadata": {
        "id": "LCQPCPqa7zR8",
        "colab_type": "code",
        "outputId": "2052c274-c26b-4fa3-d08a-b261b289aec1",
        "colab": {
          "base_uri": "https://localhost:8080/"
        }
      },
      "source": [
        "terror2.columns.to_list()"
      ],
      "execution_count": 0,
      "outputs": [
        {
          "output_type": "execute_result",
          "data": {
            "text/plain": [
              "['year',\n",
              " 'month',\n",
              " 'day',\n",
              " 'extended',\n",
              " 'country',\n",
              " 'region',\n",
              " 'provstate',\n",
              " 'city',\n",
              " 'latitude',\n",
              " 'longitude',\n",
              " 'success',\n",
              " 'suicide',\n",
              " 'attacktype',\n",
              " 'target_type',\n",
              " 'targsubtype1',\n",
              " 'taget1',\n",
              " 'natlty1',\n",
              " 'group',\n",
              " 'motive',\n",
              " 'guncertain1',\n",
              " 'nperps',\n",
              " 'weapon_type',\n",
              " 'killed']"
            ]
          },
          "metadata": {
            "tags": []
          },
          "execution_count": 13
        }
      ]
    },
    {
      "cell_type": "code",
      "metadata": {
        "id": "BtFka2JOIstK",
        "colab_type": "code",
        "outputId": "820fc715-d055-4ef2-8c14-3aaa18966579",
        "colab": {
          "base_uri": "https://localhost:8080/"
        }
      },
      "source": [
        "plt.subplots(figsize=(15,6))\n",
        "sns.countplot('region',data=terror2,palette='RdYlGn',edgecolor=sns.color_palette('dark',7),order=terror2['region'].value_counts().index)\n",
        "plt.xticks(rotation=90)\n",
        "plt.title('Numero de acaques terrorista por Region')\n",
        "plt.show()"
      ],
      "execution_count": 0,
      "outputs": [
        {
          "output_type": "display_data",
          "data": {
            "image/png": "[encoded data removed]",
            "text/plain": [
              "<Figure size 1080x432 with 1 Axes>"
            ]
          },
          "metadata": {
            "tags": []
          }
        }
      ]
    },
    {
      "cell_type": "code",
      "metadata": {
        "id": "Q1303OoEItAa",
        "colab_type": "code",
        "outputId": "df0b3096-a230-4f6c-bc3b-3432d3eea2de",
        "colab": {
          "base_uri": "https://localhost:8080/"
        }
      },
      "source": [
        "terror_region=pd.crosstab(terror2.year,terror2.region)\n",
        "terror_region.plot(color=sns.color_palette('Set2',12))\n",
        "fig=plt.gcf()\n",
        "fig.set_size_inches(18,6)\n",
        "plt.show()"
      ],
      "execution_count": 0,
      "outputs": [
        {
          "output_type": "display_data",
          "data": {
            "image/png": "[encoded data removed]",
            "text/plain": [
              "<Figure size 1296x432 with 1 Axes>"
            ]
          },
          "metadata": {
            "tags": []
          }
        }
      ]
    },
    {
      "cell_type": "code",
      "metadata": {
        "id": "gg58O5H-ItuB",
        "colab_type": "code",
        "outputId": "6a06b189-b346-4ee9-8a65-064d0ee85296",
        "colab": {
          "base_uri": "https://localhost:8080/"
        }
      },
      "source": [
        "plt.subplots(figsize=(18,6))\n",
        "sns.barplot(terror2['country'].value_counts()[:15].index,terror2['country'].value_counts()[:15].values,palette='inferno')\n",
        "plt.title('Top Affected Countries')\n",
        "plt.show()"
      ],
      "execution_count": 0,
      "outputs": [
        {
          "output_type": "display_data",
          "data": {
            "image/png": "[encoded data removed]",
            "text/plain": [
              "<Figure size 1296x432 with 1 Axes>"
            ]
          },
          "metadata": {
            "tags": []
          }
        }
      ]
    },
    {
      "cell_type": "code",
      "metadata": {
        "id": "zKEvNEolJ7KU",
        "colab_type": "code",
        "outputId": "640303ff-037f-4291-d0c4-c1ab49a32f9c",
        "colab": {
          "base_uri": "https://localhost:8080/"
        }
      },
      "source": [
        "coun_terror=terror2['country'].value_counts()[:15].to_frame()\n",
        "coun_terror.columns=['Attacks']\n",
        "coun_kill=terror2.groupby('country')['killed'].sum().to_frame()\n",
        "coun_terror.merge(coun_kill,left_index=True,right_index=True,how='left').plot.bar(width=0.9)\n",
        "fig=plt.gcf()\n",
        "fig.set_size_inches(18,6)\n",
        "plt.show()"
      ],
      "execution_count": 0,
      "outputs": [
        {
          "output_type": "display_data",
          "data": {
            "image/png": "[encoded data removed]",
            "text/plain": [
              "<Figure size 1296x432 with 1 Axes>"
            ]
          },
          "metadata": {
            "tags": []
          }
        }
      ]
    },
    {
      "cell_type": "markdown",
      "metadata": {
        "id": "jc9Sm03hPg5A",
        "colab_type": "text"
      },
      "source": [
        "## **ENTENDIENDO LOS DATOS**"
      ]
    },
    {
      "cell_type": "code",
      "metadata": {
        "id": "dJyPhLAXZ-Sq",
        "colab_type": "code",
        "outputId": "d6d840f3-cd7b-4478-ab8c-2daadfd4d53a",
        "colab": {
          "base_uri": "https://localhost:8080/"
        }
      },
      "source": [
        "path=\"base_terrorismo_codificada.csv\"\n",
        "terror2=pd.read_csv(path,encoding='latin',error_bad_lines=False)\n",
        "terror.head()"
      ],
      "execution_count": 0,
      "outputs": [
        {
          "output_type": "execute_result",
          "data": {
            "text/html": [
              "<div>\n",
              "<style scoped>\n",
              "    .dataframe tbody tr th:only-of-type {\n",
              "        vertical-align: middle;\n",
              "    }\n",
              "\n",
              "    .dataframe tbody tr th {\n",
              "        vertical-align: top;\n",
              "    }\n",
              "\n",
              "    .dataframe thead th {\n",
              "        text-align: right;\n",
              "    }\n",
              "</style>\n",
              "<table border=\"1\" class=\"dataframe\">\n",
              "  <thead>\n",
              "    <tr style=\"text-align: right;\">\n",
              "      <th></th>\n",
              "      <th>iyear</th>\n",
              "      <th>imonth</th>\n",
              "      <th>iday</th>\n",
              "      <th>extended</th>\n",
              "      <th>country</th>\n",
              "      <th>country_txt</th>\n",
              "      <th>region</th>\n",
              "      <th>region_txt</th>\n",
              "      <th>provstate</th>\n",
              "      <th>city</th>\n",
              "      <th>latitude</th>\n",
              "      <th>longitude</th>\n",
              "      <th>success</th>\n",
              "      <th>suicide</th>\n",
              "      <th>attacktype1</th>\n",
              "      <th>attacktype1_txt</th>\n",
              "      <th>targtype1</th>\n",
              "      <th>targtype1_txt</th>\n",
              "      <th>targsubtype1</th>\n",
              "      <th>targsubtype1_txt</th>\n",
              "      <th>target1</th>\n",
              "      <th>natlty1</th>\n",
              "      <th>natlty1_txt</th>\n",
              "      <th>gname</th>\n",
              "      <th>gsubname</th>\n",
              "      <th>gname2</th>\n",
              "      <th>gsubname2</th>\n",
              "      <th>gname3</th>\n",
              "      <th>gsubname3</th>\n",
              "      <th>motive</th>\n",
              "      <th>guncertain1</th>\n",
              "      <th>nperps</th>\n",
              "      <th>weaptype1</th>\n",
              "      <th>weaptype1_txt</th>\n",
              "      <th>weapdetail</th>\n",
              "      <th>nkill</th>\n",
              "    </tr>\n",
              "  </thead>\n",
              "  <tbody>\n",
              "    <tr>\n",
              "      <th>0</th>\n",
              "      <td>1970</td>\n",
              "      <td>7</td>\n",
              "      <td>2</td>\n",
              "      <td>0</td>\n",
              "      <td>58</td>\n",
              "      <td>Dominican Republic</td>\n",
              "      <td>2</td>\n",
              "      <td>Central America &amp; Caribbean</td>\n",
              "      <td>NaN</td>\n",
              "      <td>Santo Domingo</td>\n",
              "      <td>18.456792</td>\n",
              "      <td>-69.951164</td>\n",
              "      <td>1</td>\n",
              "      <td>0</td>\n",
              "      <td>1</td>\n",
              "      <td>Assassination</td>\n",
              "      <td>14</td>\n",
              "      <td>Private Citizens &amp; Property</td>\n",
              "      <td>68.0</td>\n",
              "      <td>Named Civilian</td>\n",
              "      <td>Julio Guzman</td>\n",
              "      <td>58.0</td>\n",
              "      <td>Dominican Republic</td>\n",
              "      <td>MANO-D</td>\n",
              "      <td>NaN</td>\n",
              "      <td>NaN</td>\n",
              "      <td>NaN</td>\n",
              "      <td>NaN</td>\n",
              "      <td>NaN</td>\n",
              "      <td>NaN</td>\n",
              "      <td>0.0</td>\n",
              "      <td>NaN</td>\n",
              "      <td>13</td>\n",
              "      <td>Unknown</td>\n",
              "      <td>NaN</td>\n",
              "      <td>1.0</td>\n",
              "    </tr>\n",
              "    <tr>\n",
              "      <th>1</th>\n",
              "      <td>1970</td>\n",
              "      <td>0</td>\n",
              "      <td>0</td>\n",
              "      <td>0</td>\n",
              "      <td>130</td>\n",
              "      <td>Mexico</td>\n",
              "      <td>1</td>\n",
              "      <td>North America</td>\n",
              "      <td>Federal</td>\n",
              "      <td>Mexico city</td>\n",
              "      <td>19.371887</td>\n",
              "      <td>-99.086624</td>\n",
              "      <td>1</td>\n",
              "      <td>0</td>\n",
              "      <td>6</td>\n",
              "      <td>Hostage Taking (Kidnapping)</td>\n",
              "      <td>7</td>\n",
              "      <td>Government (Diplomatic)</td>\n",
              "      <td>45.0</td>\n",
              "      <td>Diplomatic Personnel (outside of embassy, cons...</td>\n",
              "      <td>Nadine Chaval, daughter</td>\n",
              "      <td>21.0</td>\n",
              "      <td>Belgium</td>\n",
              "      <td>23rd of September Communist League</td>\n",
              "      <td>NaN</td>\n",
              "      <td>NaN</td>\n",
              "      <td>NaN</td>\n",
              "      <td>NaN</td>\n",
              "      <td>NaN</td>\n",
              "      <td>NaN</td>\n",
              "      <td>0.0</td>\n",
              "      <td>7.0</td>\n",
              "      <td>13</td>\n",
              "      <td>Unknown</td>\n",
              "      <td>NaN</td>\n",
              "      <td>0.0</td>\n",
              "    </tr>\n",
              "    <tr>\n",
              "      <th>2</th>\n",
              "      <td>1970</td>\n",
              "      <td>1</td>\n",
              "      <td>0</td>\n",
              "      <td>0</td>\n",
              "      <td>160</td>\n",
              "      <td>Philippines</td>\n",
              "      <td>5</td>\n",
              "      <td>Southeast Asia</td>\n",
              "      <td>Tarlac</td>\n",
              "      <td>Unknown</td>\n",
              "      <td>15.478598</td>\n",
              "      <td>120.599741</td>\n",
              "      <td>1</td>\n",
              "      <td>0</td>\n",
              "      <td>1</td>\n",
              "      <td>Assassination</td>\n",
              "      <td>10</td>\n",
              "      <td>Journalists &amp; Media</td>\n",
              "      <td>54.0</td>\n",
              "      <td>Radio Journalist/Staff/Facility</td>\n",
              "      <td>Employee</td>\n",
              "      <td>217.0</td>\n",
              "      <td>United States</td>\n",
              "      <td>Unknown</td>\n",
              "      <td>NaN</td>\n",
              "      <td>NaN</td>\n",
              "      <td>NaN</td>\n",
              "      <td>NaN</td>\n",
              "      <td>NaN</td>\n",
              "      <td>NaN</td>\n",
              "      <td>0.0</td>\n",
              "      <td>NaN</td>\n",
              "      <td>13</td>\n",
              "      <td>Unknown</td>\n",
              "      <td>NaN</td>\n",
              "      <td>1.0</td>\n",
              "    </tr>\n",
              "    <tr>\n",
              "      <th>3</th>\n",
              "      <td>1970</td>\n",
              "      <td>1</td>\n",
              "      <td>0</td>\n",
              "      <td>0</td>\n",
              "      <td>78</td>\n",
              "      <td>Greece</td>\n",
              "      <td>8</td>\n",
              "      <td>Western Europe</td>\n",
              "      <td>Attica</td>\n",
              "      <td>Athens</td>\n",
              "      <td>37.997490</td>\n",
              "      <td>23.762728</td>\n",
              "      <td>1</td>\n",
              "      <td>0</td>\n",
              "      <td>3</td>\n",
              "      <td>Bombing/Explosion</td>\n",
              "      <td>7</td>\n",
              "      <td>Government (Diplomatic)</td>\n",
              "      <td>46.0</td>\n",
              "      <td>Embassy/Consulate</td>\n",
              "      <td>U.S. Embassy</td>\n",
              "      <td>217.0</td>\n",
              "      <td>United States</td>\n",
              "      <td>Unknown</td>\n",
              "      <td>NaN</td>\n",
              "      <td>NaN</td>\n",
              "      <td>NaN</td>\n",
              "      <td>NaN</td>\n",
              "      <td>NaN</td>\n",
              "      <td>NaN</td>\n",
              "      <td>0.0</td>\n",
              "      <td>NaN</td>\n",
              "      <td>6</td>\n",
              "      <td>Explosives</td>\n",
              "      <td>Explosive</td>\n",
              "      <td>NaN</td>\n",
              "    </tr>\n",
              "    <tr>\n",
              "      <th>4</th>\n",
              "      <td>1970</td>\n",
              "      <td>1</td>\n",
              "      <td>0</td>\n",
              "      <td>0</td>\n",
              "      <td>101</td>\n",
              "      <td>Japan</td>\n",
              "      <td>4</td>\n",
              "      <td>East Asia</td>\n",
              "      <td>Fukouka</td>\n",
              "      <td>Fukouka</td>\n",
              "      <td>33.580412</td>\n",
              "      <td>130.396361</td>\n",
              "      <td>1</td>\n",
              "      <td>0</td>\n",
              "      <td>7</td>\n",
              "      <td>Facility/Infrastructure Attack</td>\n",
              "      <td>7</td>\n",
              "      <td>Government (Diplomatic)</td>\n",
              "      <td>46.0</td>\n",
              "      <td>Embassy/Consulate</td>\n",
              "      <td>U.S. Consulate</td>\n",
              "      <td>217.0</td>\n",
              "      <td>United States</td>\n",
              "      <td>Unknown</td>\n",
              "      <td>NaN</td>\n",
              "      <td>NaN</td>\n",
              "      <td>NaN</td>\n",
              "      <td>NaN</td>\n",
              "      <td>NaN</td>\n",
              "      <td>NaN</td>\n",
              "      <td>0.0</td>\n",
              "      <td>NaN</td>\n",
              "      <td>8</td>\n",
              "      <td>Incendiary</td>\n",
              "      <td>Incendiary</td>\n",
              "      <td>NaN</td>\n",
              "    </tr>\n",
              "  </tbody>\n",
              "</table>\n",
              "</div>"
            ],
            "text/plain": [
              "   iyear  imonth  iday  extended  ...  weaptype1 weaptype1_txt  weapdetail nkill\n",
              "0   1970       7     2         0  ...         13       Unknown         NaN   1.0\n",
              "1   1970       0     0         0  ...         13       Unknown         NaN   0.0\n",
              "2   1970       1     0         0  ...         13       Unknown         NaN   1.0\n",
              "3   1970       1     0         0  ...          6    Explosives   Explosive   NaN\n",
              "4   1970       1     0         0  ...          8    Incendiary  Incendiary   NaN\n",
              "\n",
              "[5 rows x 36 columns]"
            ]
          },
          "metadata": {
            "tags": []
          },
          "execution_count": 18
        }
      ]
    },
    {
      "cell_type": "code",
      "metadata": {
        "id": "RA3swoeiS1er",
        "colab_type": "code",
        "colab": {}
      },
      "source": [
        "terror2=terror.loc[:,['iyear','imonth','iday','extended','country','region','latitude','longitude','success','suicide','attacktype1','targtype1','target1','natlty1','gname','motive','guncertain1','nperps','weaptype1','nkill']]"
      ],
      "execution_count": 0,
      "outputs": []
    },
    {
      "cell_type": "code",
      "metadata": {
        "id": "FGb9sz-LQMla",
        "colab_type": "code",
        "outputId": "8a3c2c7d-c9ed-48b1-d6fc-3a1cd0b9496e",
        "colab": {
          "base_uri": "https://localhost:8080/"
        }
      },
      "source": [
        "terror2.isnull().sum()"
      ],
      "execution_count": 0,
      "outputs": [
        {
          "output_type": "execute_result",
          "data": {
            "text/plain": [
              "iyear               0\n",
              "imonth              0\n",
              "iday                0\n",
              "extended            0\n",
              "country             0\n",
              "region              0\n",
              "latitude         4556\n",
              "longitude        4557\n",
              "success             0\n",
              "suicide             0\n",
              "attacktype1         0\n",
              "targtype1           0\n",
              "target1           636\n",
              "natlty1          1559\n",
              "gname               0\n",
              "motive         131130\n",
              "guncertain1       380\n",
              "nperps          71115\n",
              "weaptype1           0\n",
              "nkill           10313\n",
              "dtype: int64"
            ]
          },
          "metadata": {
            "tags": []
          },
          "execution_count": 20
        }
      ]
    },
    {
      "cell_type": "code",
      "metadata": {
        "id": "rVKaxkDZQeTn",
        "colab_type": "code",
        "outputId": "a46c67d2-ce35-4e54-f151-ae63f929c731",
        "colab": {
          "base_uri": "https://localhost:8080/"
        }
      },
      "source": [
        "terror2.dtypes"
      ],
      "execution_count": 0,
      "outputs": [
        {
          "output_type": "execute_result",
          "data": {
            "text/plain": [
              "iyear            int64\n",
              "imonth           int64\n",
              "iday             int64\n",
              "extended         int64\n",
              "country          int64\n",
              "region           int64\n",
              "latitude       float64\n",
              "longitude      float64\n",
              "success          int64\n",
              "suicide          int64\n",
              "attacktype1      int64\n",
              "targtype1        int64\n",
              "target1         object\n",
              "natlty1        float64\n",
              "gname           object\n",
              "motive          object\n",
              "guncertain1    float64\n",
              "nperps         float64\n",
              "weaptype1        int64\n",
              "nkill          float64\n",
              "dtype: object"
            ]
          },
          "metadata": {
            "tags": []
          },
          "execution_count": 21
        }
      ]
    },
    {
      "cell_type": "code",
      "metadata": {
        "id": "vvai_28xQh5n",
        "colab_type": "code",
        "colab": {}
      },
      "source": [
        "terror2.replace({' ':np.nan},inplace=True)"
      ],
      "execution_count": 0,
      "outputs": []
    },
    {
      "cell_type": "code",
      "metadata": {
        "id": "jLe2zzUjQmXH",
        "colab_type": "code",
        "outputId": "b5a98709-249b-4518-bfec-0598ac58176a",
        "colab": {
          "base_uri": "https://localhost:8080/"
        }
      },
      "source": [
        "terror2.isnull().sum()"
      ],
      "execution_count": 0,
      "outputs": [
        {
          "output_type": "execute_result",
          "data": {
            "text/plain": [
              "iyear               0\n",
              "imonth              0\n",
              "iday                0\n",
              "extended            0\n",
              "country             0\n",
              "region              0\n",
              "latitude         4556\n",
              "longitude        4557\n",
              "success             0\n",
              "suicide             0\n",
              "attacktype1         0\n",
              "targtype1           0\n",
              "target1           636\n",
              "natlty1          1559\n",
              "gname               0\n",
              "motive         131130\n",
              "guncertain1       380\n",
              "nperps          71115\n",
              "weaptype1           0\n",
              "nkill           10313\n",
              "dtype: int64"
            ]
          },
          "metadata": {
            "tags": []
          },
          "execution_count": 23
        }
      ]
    },
    {
      "cell_type": "code",
      "metadata": {
        "id": "6C6sUAhjQo5U",
        "colab_type": "code",
        "outputId": "6843186e-29ad-4e35-c931-c80413cf5de2",
        "colab": {
          "base_uri": "https://localhost:8080/"
        }
      },
      "source": [
        "msno.matrix(terror2)"
      ],
      "execution_count": 0,
      "outputs": [
        {
          "output_type": "execute_result",
          "data": {
            "text/plain": [
              "<matplotlib.axes._subplots.AxesSubplot at 0x7f0195ba32e8>"
            ]
          },
          "metadata": {
            "tags": []
          },
          "execution_count": 24
        },
        {
          "output_type": "display_data",
          "data": {
            "image/png": "[encoded data removed]",
            "text/plain": [
              "<Figure size 1800x720 with 2 Axes>"
            ]
          },
          "metadata": {
            "tags": []
          }
        }
      ]
    },
    {
      "cell_type": "code",
      "metadata": {
        "id": "IhN1fGq9Wy0j",
        "colab_type": "code",
        "outputId": "3ff541cb-a3be-4562-d71e-637889599c54",
        "colab": {
          "base_uri": "https://localhost:8080/"
        }
      },
      "source": [
        "terror2.head()"
      ],
      "execution_count": 0,
      "outputs": [
        {
          "output_type": "execute_result",
          "data": {
            "text/html": [
              "<div>\n",
              "<style scoped>\n",
              "    .dataframe tbody tr th:only-of-type {\n",
              "        vertical-align: middle;\n",
              "    }\n",
              "\n",
              "    .dataframe tbody tr th {\n",
              "        vertical-align: top;\n",
              "    }\n",
              "\n",
              "    .dataframe thead th {\n",
              "        text-align: right;\n",
              "    }\n",
              "</style>\n",
              "<table border=\"1\" class=\"dataframe\">\n",
              "  <thead>\n",
              "    <tr style=\"text-align: right;\">\n",
              "      <th></th>\n",
              "      <th>iyear</th>\n",
              "      <th>imonth</th>\n",
              "      <th>iday</th>\n",
              "      <th>extended</th>\n",
              "      <th>country</th>\n",
              "      <th>region</th>\n",
              "      <th>latitude</th>\n",
              "      <th>longitude</th>\n",
              "      <th>success</th>\n",
              "      <th>suicide</th>\n",
              "      <th>attacktype1</th>\n",
              "      <th>targtype1</th>\n",
              "      <th>target1</th>\n",
              "      <th>natlty1</th>\n",
              "      <th>gname</th>\n",
              "      <th>motive</th>\n",
              "      <th>guncertain1</th>\n",
              "      <th>nperps</th>\n",
              "      <th>weaptype1</th>\n",
              "      <th>nkill</th>\n",
              "    </tr>\n",
              "  </thead>\n",
              "  <tbody>\n",
              "    <tr>\n",
              "      <th>0</th>\n",
              "      <td>1970</td>\n",
              "      <td>7</td>\n",
              "      <td>2</td>\n",
              "      <td>0</td>\n",
              "      <td>58</td>\n",
              "      <td>2</td>\n",
              "      <td>18.456792</td>\n",
              "      <td>-69.951164</td>\n",
              "      <td>1</td>\n",
              "      <td>0</td>\n",
              "      <td>1</td>\n",
              "      <td>14</td>\n",
              "      <td>Julio Guzman</td>\n",
              "      <td>58.0</td>\n",
              "      <td>MANO-D</td>\n",
              "      <td>NaN</td>\n",
              "      <td>0.0</td>\n",
              "      <td>NaN</td>\n",
              "      <td>13</td>\n",
              "      <td>1.0</td>\n",
              "    </tr>\n",
              "    <tr>\n",
              "      <th>1</th>\n",
              "      <td>1970</td>\n",
              "      <td>0</td>\n",
              "      <td>0</td>\n",
              "      <td>0</td>\n",
              "      <td>130</td>\n",
              "      <td>1</td>\n",
              "      <td>19.371887</td>\n",
              "      <td>-99.086624</td>\n",
              "      <td>1</td>\n",
              "      <td>0</td>\n",
              "      <td>6</td>\n",
              "      <td>7</td>\n",
              "      <td>Nadine Chaval, daughter</td>\n",
              "      <td>21.0</td>\n",
              "      <td>23rd of September Communist League</td>\n",
              "      <td>NaN</td>\n",
              "      <td>0.0</td>\n",
              "      <td>7.0</td>\n",
              "      <td>13</td>\n",
              "      <td>0.0</td>\n",
              "    </tr>\n",
              "    <tr>\n",
              "      <th>2</th>\n",
              "      <td>1970</td>\n",
              "      <td>1</td>\n",
              "      <td>0</td>\n",
              "      <td>0</td>\n",
              "      <td>160</td>\n",
              "      <td>5</td>\n",
              "      <td>15.478598</td>\n",
              "      <td>120.599741</td>\n",
              "      <td>1</td>\n",
              "      <td>0</td>\n",
              "      <td>1</td>\n",
              "      <td>10</td>\n",
              "      <td>Employee</td>\n",
              "      <td>217.0</td>\n",
              "      <td>Unknown</td>\n",
              "      <td>NaN</td>\n",
              "      <td>0.0</td>\n",
              "      <td>NaN</td>\n",
              "      <td>13</td>\n",
              "      <td>1.0</td>\n",
              "    </tr>\n",
              "    <tr>\n",
              "      <th>3</th>\n",
              "      <td>1970</td>\n",
              "      <td>1</td>\n",
              "      <td>0</td>\n",
              "      <td>0</td>\n",
              "      <td>78</td>\n",
              "      <td>8</td>\n",
              "      <td>37.997490</td>\n",
              "      <td>23.762728</td>\n",
              "      <td>1</td>\n",
              "      <td>0</td>\n",
              "      <td>3</td>\n",
              "      <td>7</td>\n",
              "      <td>U.S. Embassy</td>\n",
              "      <td>217.0</td>\n",
              "      <td>Unknown</td>\n",
              "      <td>NaN</td>\n",
              "      <td>0.0</td>\n",
              "      <td>NaN</td>\n",
              "      <td>6</td>\n",
              "      <td>NaN</td>\n",
              "    </tr>\n",
              "    <tr>\n",
              "      <th>4</th>\n",
              "      <td>1970</td>\n",
              "      <td>1</td>\n",
              "      <td>0</td>\n",
              "      <td>0</td>\n",
              "      <td>101</td>\n",
              "      <td>4</td>\n",
              "      <td>33.580412</td>\n",
              "      <td>130.396361</td>\n",
              "      <td>1</td>\n",
              "      <td>0</td>\n",
              "      <td>7</td>\n",
              "      <td>7</td>\n",
              "      <td>U.S. Consulate</td>\n",
              "      <td>217.0</td>\n",
              "      <td>Unknown</td>\n",
              "      <td>NaN</td>\n",
              "      <td>0.0</td>\n",
              "      <td>NaN</td>\n",
              "      <td>8</td>\n",
              "      <td>NaN</td>\n",
              "    </tr>\n",
              "  </tbody>\n",
              "</table>\n",
              "</div>"
            ],
            "text/plain": [
              "   iyear  imonth  iday  extended  ...  guncertain1  nperps  weaptype1  nkill\n",
              "0   1970       7     2         0  ...          0.0     NaN         13    1.0\n",
              "1   1970       0     0         0  ...          0.0     7.0         13    0.0\n",
              "2   1970       1     0         0  ...          0.0     NaN         13    1.0\n",
              "3   1970       1     0         0  ...          0.0     NaN          6    NaN\n",
              "4   1970       1     0         0  ...          0.0     NaN          8    NaN\n",
              "\n",
              "[5 rows x 20 columns]"
            ]
          },
          "metadata": {
            "tags": []
          },
          "execution_count": 25
        }
      ]
    },
    {
      "cell_type": "markdown",
      "metadata": {
        "id": "ZhYY4kwcXr6j",
        "colab_type": "text"
      },
      "source": [
        "Analizando FALTANTES\n"
      ]
    },
    {
      "cell_type": "code",
      "metadata": {
        "id": "3x99yEZ1WzPS",
        "colab_type": "code",
        "outputId": "e5369d1f-f36a-4ea2-f862-f9cf4dbae0e7",
        "colab": {
          "base_uri": "https://localhost:8080/"
        }
      },
      "source": [
        "terror2['target1']"
      ],
      "execution_count": 0,
      "outputs": [
        {
          "output_type": "execute_result",
          "data": {
            "text/plain": [
              "0                    Julio Guzman\n",
              "1         Nadine Chaval, daughter\n",
              "2                        Employee\n",
              "3                    U.S. Embassy\n",
              "4                  U.S. Consulate\n",
              "                   ...           \n",
              "181686                 Checkpoint\n",
              "181687           Hmeymim Air Base\n",
              "181688                     Houses\n",
              "181689                     Office\n",
              "181690                    Unknown\n",
              "Name: target1, Length: 181691, dtype: object"
            ]
          },
          "metadata": {
            "tags": []
          },
          "execution_count": 26
        }
      ]
    },
    {
      "cell_type": "code",
      "metadata": {
        "id": "ZwDVEDykWzak",
        "colab_type": "code",
        "outputId": "821778ce-cc67-4575-e401-c533ad79a92d",
        "colab": {
          "base_uri": "https://localhost:8080/"
        }
      },
      "source": [
        "statistics.mode(terror2['target1'])"
      ],
      "execution_count": 0,
      "outputs": [
        {
          "output_type": "execute_result",
          "data": {
            "text/plain": [
              "'Civilians'"
            ]
          },
          "metadata": {
            "tags": []
          },
          "execution_count": 27
        }
      ]
    },
    {
      "cell_type": "code",
      "metadata": {
        "id": "_zEgoKqOWzky",
        "colab_type": "code",
        "colab": {}
      },
      "source": [
        "terror2['target1'].replace({np.nan:'Civilians'},inplace=True)"
      ],
      "execution_count": 0,
      "outputs": []
    },
    {
      "cell_type": "code",
      "metadata": {
        "id": "pU0iBQ0YPuA4",
        "colab_type": "code",
        "outputId": "c5473916-f9c1-4935-d93b-d81b57fe2e91",
        "colab": {
          "base_uri": "https://localhost:8080/"
        }
      },
      "source": [
        "statistics.mode(terror2['natlty1'])"
      ],
      "execution_count": 0,
      "outputs": [
        {
          "output_type": "execute_result",
          "data": {
            "text/plain": [
              "95.0"
            ]
          },
          "metadata": {
            "tags": []
          },
          "execution_count": 29
        }
      ]
    },
    {
      "cell_type": "code",
      "metadata": {
        "id": "raOTRiRQcaLS",
        "colab_type": "code",
        "colab": {}
      },
      "source": [
        "terror2['natlty1'].replace({np.nan:95.0},inplace=True)"
      ],
      "execution_count": 0,
      "outputs": []
    },
    {
      "cell_type": "code",
      "metadata": {
        "id": "_rhxTdLgcaiy",
        "colab_type": "code",
        "outputId": "b2b15bff-6d66-418d-ffa2-3e17770208c0",
        "colab": {
          "base_uri": "https://localhost:8080/"
        }
      },
      "source": [
        "statistics.mode(terror2['gname'])"
      ],
      "execution_count": 0,
      "outputs": [
        {
          "output_type": "execute_result",
          "data": {
            "text/plain": [
              "'Unknown'"
            ]
          },
          "metadata": {
            "tags": []
          },
          "execution_count": 31
        }
      ]
    },
    {
      "cell_type": "code",
      "metadata": {
        "id": "Wnrto1PVcas3",
        "colab_type": "code",
        "colab": {}
      },
      "source": [
        "terror2['gname'].replace({np.nan,'Unknown'},inplace=True)"
      ],
      "execution_count": 0,
      "outputs": []
    },
    {
      "cell_type": "code",
      "metadata": {
        "id": "n20-h2XCca7i",
        "colab_type": "code",
        "outputId": "aa43d864-8087-4193-a75b-c3253354c7c9",
        "colab": {
          "base_uri": "https://localhost:8080/"
        }
      },
      "source": [
        "terror2.isnull().sum()"
      ],
      "execution_count": 0,
      "outputs": [
        {
          "output_type": "execute_result",
          "data": {
            "text/plain": [
              "iyear               0\n",
              "imonth              0\n",
              "iday                0\n",
              "extended            0\n",
              "country             0\n",
              "region              0\n",
              "latitude         4556\n",
              "longitude        4557\n",
              "success             0\n",
              "suicide             0\n",
              "attacktype1         0\n",
              "targtype1           0\n",
              "target1             0\n",
              "natlty1             0\n",
              "gname               0\n",
              "motive         131130\n",
              "guncertain1       380\n",
              "nperps          71115\n",
              "weaptype1           0\n",
              "nkill           10313\n",
              "dtype: int64"
            ]
          },
          "metadata": {
            "tags": []
          },
          "execution_count": 33
        }
      ]
    },
    {
      "cell_type": "code",
      "metadata": {
        "id": "4E-8FG8Pi5Za",
        "colab_type": "code",
        "outputId": "748baf0f-057a-43b8-c074-7db526f4b46c",
        "colab": {
          "base_uri": "https://localhost:8080/"
        }
      },
      "source": [
        "statistics.mean(terror2['nkill'])"
      ],
      "execution_count": 0,
      "outputs": [
        {
          "output_type": "execute_result",
          "data": {
            "text/plain": [
              "nan"
            ]
          },
          "metadata": {
            "tags": []
          },
          "execution_count": 34
        }
      ]
    },
    {
      "cell_type": "code",
      "metadata": {
        "id": "bLULf1qmi5ug",
        "colab_type": "code",
        "colab": {}
      },
      "source": [
        "terror2['nkill'].replace({np.nan:2.0},inplace=True)"
      ],
      "execution_count": 0,
      "outputs": []
    },
    {
      "cell_type": "code",
      "metadata": {
        "id": "3ZuLDWxAi50o",
        "colab_type": "code",
        "colab": {}
      },
      "source": [
        "terror2['nperps'].replace({np.nan:770},inplace=True)"
      ],
      "execution_count": 0,
      "outputs": []
    },
    {
      "cell_type": "code",
      "metadata": {
        "id": "nAolvwtJi57c",
        "colab_type": "code",
        "colab": {}
      },
      "source": [
        "terror2['guncertain1'].replace({np.nan:0},inplace=True)"
      ],
      "execution_count": 0,
      "outputs": []
    },
    {
      "cell_type": "code",
      "metadata": {
        "id": "1iVz_6g8neaf",
        "colab_type": "code",
        "colab": {}
      },
      "source": [
        "terror2['motive'].replace({np.nan:'Unknown'},inplace=True)"
      ],
      "execution_count": 0,
      "outputs": []
    },
    {
      "cell_type": "code",
      "metadata": {
        "id": "9RjihoUNYwti",
        "colab_type": "code",
        "outputId": "bd440a06-754e-4823-8b06-cbf9af95ec10",
        "colab": {
          "base_uri": "https://localhost:8080/"
        }
      },
      "source": [
        "terror2.isnull().sum()"
      ],
      "execution_count": 0,
      "outputs": [
        {
          "output_type": "execute_result",
          "data": {
            "text/plain": [
              "iyear             0\n",
              "imonth            0\n",
              "iday              0\n",
              "extended          0\n",
              "country           0\n",
              "region            0\n",
              "latitude       4556\n",
              "longitude      4557\n",
              "success           0\n",
              "suicide           0\n",
              "attacktype1       0\n",
              "targtype1         0\n",
              "target1           0\n",
              "natlty1           0\n",
              "gname             0\n",
              "motive            0\n",
              "guncertain1       0\n",
              "nperps            0\n",
              "weaptype1         0\n",
              "nkill             0\n",
              "dtype: int64"
            ]
          },
          "metadata": {
            "tags": []
          },
          "execution_count": 39
        }
      ]
    },
    {
      "cell_type": "code",
      "metadata": {
        "id": "wd6NsB4mawKU",
        "colab_type": "code",
        "outputId": "44ba2d46-65d9-40f9-867e-5d4228329468",
        "colab": {
          "base_uri": "https://localhost:8080/"
        }
      },
      "source": [
        "terror2.info()"
      ],
      "execution_count": 0,
      "outputs": [
        {
          "output_type": "stream",
          "text": [
            "<class 'pandas.core.frame.DataFrame'>\n",
            "RangeIndex: 181691 entries, 0 to 181690\n",
            "Data columns (total 20 columns):\n",
            "iyear          181691 non-null int64\n",
            "imonth         181691 non-null int64\n",
            "iday           181691 non-null int64\n",
            "extended       181691 non-null int64\n",
            "country        181691 non-null int64\n",
            "region         181691 non-null int64\n",
            "latitude       177135 non-null float64\n",
            "longitude      177134 non-null float64\n",
            "success        181691 non-null int64\n",
            "suicide        181691 non-null int64\n",
            "attacktype1    181691 non-null int64\n",
            "targtype1      181691 non-null int64\n",
            "target1        181691 non-null object\n",
            "natlty1        181691 non-null float64\n",
            "gname          181691 non-null object\n",
            "motive         181691 non-null object\n",
            "guncertain1    181691 non-null float64\n",
            "nperps         181691 non-null float64\n",
            "weaptype1      181691 non-null int64\n",
            "nkill          181691 non-null float64\n",
            "dtypes: float64(6), int64(11), object(3)\n",
            "memory usage: 27.7+ MB\n"
          ],
          "name": "stdout"
        }
      ]
    },
    {
      "cell_type": "code",
      "metadata": {
        "id": "ZoDJqTDTNC0a",
        "colab_type": "code",
        "outputId": "dae04ef5-515c-4707-89fb-1d1a9b2e66ff",
        "colab": {
          "base_uri": "https://localhost:8080/"
        }
      },
      "source": [
        "statistics.mean(terror['iyear'])"
      ],
      "execution_count": 0,
      "outputs": [
        {
          "output_type": "execute_result",
          "data": {
            "text/plain": [
              "2002.6389969783863"
            ]
          },
          "metadata": {
            "tags": []
          },
          "execution_count": 41
        }
      ]
    },
    {
      "cell_type": "code",
      "metadata": {
        "id": "vTrh1YXJOu7Z",
        "colab_type": "code",
        "outputId": "25454beb-42a3-459c-b4e7-3e4350215fa6",
        "colab": {
          "base_uri": "https://localhost:8080/"
        }
      },
      "source": [
        "statistics.mode(terror['iyear'])"
      ],
      "execution_count": 0,
      "outputs": [
        {
          "output_type": "execute_result",
          "data": {
            "text/plain": [
              "2014"
            ]
          },
          "metadata": {
            "tags": []
          },
          "execution_count": 42
        }
      ]
    },
    {
      "cell_type": "code",
      "metadata": {
        "id": "zHkacIwgOu34",
        "colab_type": "code",
        "outputId": "5545ef18-65e3-432f-99a3-d0046c9931a7",
        "colab": {
          "base_uri": "https://localhost:8080/"
        }
      },
      "source": [
        "max(terror['iyear'])"
      ],
      "execution_count": 0,
      "outputs": [
        {
          "output_type": "execute_result",
          "data": {
            "text/plain": [
              "2017"
            ]
          },
          "metadata": {
            "tags": []
          },
          "execution_count": 43
        }
      ]
    },
    {
      "cell_type": "code",
      "metadata": {
        "id": "vfMUvEyKOux3",
        "colab_type": "code",
        "outputId": "ab7cfeef-cbd2-4583-9e32-d485381aee40",
        "colab": {
          "base_uri": "https://localhost:8080/"
        }
      },
      "source": [
        "statistics.mode(terror['imonth'])"
      ],
      "execution_count": 0,
      "outputs": [
        {
          "output_type": "execute_result",
          "data": {
            "text/plain": [
              "5"
            ]
          },
          "metadata": {
            "tags": []
          },
          "execution_count": 44
        }
      ]
    },
    {
      "cell_type": "code",
      "metadata": {
        "id": "zUT2yIP_PKkG",
        "colab_type": "code",
        "outputId": "aa6e63b6-73a3-4f58-caec-53b7678c26a2",
        "colab": {
          "base_uri": "https://localhost:8080/"
        }
      },
      "source": [
        "statistics.mode(terror['region_txt'])"
      ],
      "execution_count": 0,
      "outputs": [
        {
          "output_type": "execute_result",
          "data": {
            "text/plain": [
              "'Middle East & North Africa'"
            ]
          },
          "metadata": {
            "tags": []
          },
          "execution_count": 45
        }
      ]
    },
    {
      "cell_type": "code",
      "metadata": {
        "id": "Z95CZ6hvPKbY",
        "colab_type": "code",
        "outputId": "7f6f6eef-0d17-404b-a5c3-de92f4d19369",
        "colab": {
          "base_uri": "https://localhost:8080/"
        }
      },
      "source": [
        "statistics.mode(terror['success'])"
      ],
      "execution_count": 0,
      "outputs": [
        {
          "output_type": "execute_result",
          "data": {
            "text/plain": [
              "1"
            ]
          },
          "metadata": {
            "tags": []
          },
          "execution_count": 46
        }
      ]
    },
    {
      "cell_type": "code",
      "metadata": {
        "id": "xaK8q_XxPKTy",
        "colab_type": "code",
        "outputId": "be02cd7a-1d6e-4b79-988c-f7089d78562b",
        "colab": {
          "base_uri": "https://localhost:8080/"
        }
      },
      "source": [
        "statistics.mode(terror['suicide'])"
      ],
      "execution_count": 0,
      "outputs": [
        {
          "output_type": "execute_result",
          "data": {
            "text/plain": [
              "0"
            ]
          },
          "metadata": {
            "tags": []
          },
          "execution_count": 47
        }
      ]
    },
    {
      "cell_type": "code",
      "metadata": {
        "id": "jGVH5mcRPKMD",
        "colab_type": "code",
        "outputId": "42beab9f-7400-422d-e822-83d1f75d5139",
        "colab": {
          "base_uri": "https://localhost:8080/"
        }
      },
      "source": [
        "statistics.mode(terror['attacktype1_txt'])"
      ],
      "execution_count": 0,
      "outputs": [
        {
          "output_type": "execute_result",
          "data": {
            "text/plain": [
              "'Bombing/Explosion'"
            ]
          },
          "metadata": {
            "tags": []
          },
          "execution_count": 48
        }
      ]
    },
    {
      "cell_type": "code",
      "metadata": {
        "id": "9Ld7qoDeOuoy",
        "colab_type": "code",
        "outputId": "77886452-d62d-42c9-c9e0-29edac7f841f",
        "colab": {
          "base_uri": "https://localhost:8080/"
        }
      },
      "source": [
        "statistics.mode(terror['targtype1_txt'])"
      ],
      "execution_count": 0,
      "outputs": [
        {
          "output_type": "execute_result",
          "data": {
            "text/plain": [
              "'Private Citizens & Property'"
            ]
          },
          "metadata": {
            "tags": []
          },
          "execution_count": 49
        }
      ]
    },
    {
      "cell_type": "code",
      "metadata": {
        "id": "wT0FgK2jRXGu",
        "colab_type": "code",
        "outputId": "0356a25c-9672-4188-f539-2c3ae86c2b48",
        "colab": {
          "base_uri": "https://localhost:8080/"
        }
      },
      "source": [
        "statistics.mode(terror['natlty1_txt'])"
      ],
      "execution_count": 0,
      "outputs": [
        {
          "output_type": "execute_result",
          "data": {
            "text/plain": [
              "'Iraq'"
            ]
          },
          "metadata": {
            "tags": []
          },
          "execution_count": 50
        }
      ]
    },
    {
      "cell_type": "code",
      "metadata": {
        "id": "7ATeD3kFRXCC",
        "colab_type": "code",
        "outputId": "a6605ff5-03c2-484e-9893-1eac5a54b570",
        "colab": {
          "base_uri": "https://localhost:8080/"
        }
      },
      "source": [
        "max(terror['natlty1'])"
      ],
      "execution_count": 0,
      "outputs": [
        {
          "output_type": "execute_result",
          "data": {
            "text/plain": [
              "1004.0"
            ]
          },
          "metadata": {
            "tags": []
          },
          "execution_count": 51
        }
      ]
    },
    {
      "cell_type": "code",
      "metadata": {
        "id": "k8Lzwn_nRW9C",
        "colab_type": "code",
        "outputId": "4d611bf3-88aa-4ebe-c2ec-df2df495ed3e",
        "colab": {
          "base_uri": "https://localhost:8080/"
        }
      },
      "source": [
        "statistics.mode(terror['guncertain1'])"
      ],
      "execution_count": 0,
      "outputs": [
        {
          "output_type": "execute_result",
          "data": {
            "text/plain": [
              "0.0"
            ]
          },
          "metadata": {
            "tags": []
          },
          "execution_count": 52
        }
      ]
    },
    {
      "cell_type": "code",
      "metadata": {
        "id": "sCzz_PF8RWz7",
        "colab_type": "code",
        "outputId": "50653b4f-ea2e-465d-f92d-d95ccd2959f9",
        "colab": {
          "base_uri": "https://localhost:8080/"
        }
      },
      "source": [
        "max(terror['guncertain1'])"
      ],
      "execution_count": 0,
      "outputs": [
        {
          "output_type": "execute_result",
          "data": {
            "text/plain": [
              "1.0"
            ]
          },
          "metadata": {
            "tags": []
          },
          "execution_count": 53
        }
      ]
    },
    {
      "cell_type": "code",
      "metadata": {
        "id": "NvMVEFMrUcI2",
        "colab_type": "code",
        "outputId": "7499f8f5-d0e7-42da-94e6-9cb384c98a2a",
        "colab": {
          "base_uri": "https://localhost:8080/"
        }
      },
      "source": [
        "statistics.mode(terror['weaptype1_txt'])"
      ],
      "execution_count": 0,
      "outputs": [
        {
          "output_type": "execute_result",
          "data": {
            "text/plain": [
              "'Explosives'"
            ]
          },
          "metadata": {
            "tags": []
          },
          "execution_count": 54
        }
      ]
    },
    {
      "cell_type": "code",
      "metadata": {
        "id": "hI-tP4j7UcDd",
        "colab_type": "code",
        "outputId": "5cf78ae8-ce4e-4525-ea7e-cc363bc2d2b8",
        "colab": {
          "base_uri": "https://localhost:8080/"
        }
      },
      "source": [
        "max(terror['weaptype1'])"
      ],
      "execution_count": 0,
      "outputs": [
        {
          "output_type": "execute_result",
          "data": {
            "text/plain": [
              "13"
            ]
          },
          "metadata": {
            "tags": []
          },
          "execution_count": 55
        }
      ]
    },
    {
      "cell_type": "code",
      "metadata": {
        "id": "zMhrED7DUb6s",
        "colab_type": "code",
        "outputId": "793b9016-02e2-41c6-e990-e095d75fd6ed",
        "colab": {
          "base_uri": "https://localhost:8080/"
        }
      },
      "source": [
        "statistics.mean(terror2['nkill'])"
      ],
      "execution_count": 0,
      "outputs": [
        {
          "output_type": "execute_result",
          "data": {
            "text/plain": [
              "2.3803820772630453"
            ]
          },
          "metadata": {
            "tags": []
          },
          "execution_count": 56
        }
      ]
    },
    {
      "cell_type": "code",
      "metadata": {
        "id": "MrpjOs4EU8hv",
        "colab_type": "code",
        "outputId": "17c1b12f-2218-4a11-b07a-4976bc75a571",
        "colab": {
          "base_uri": "https://localhost:8080/"
        }
      },
      "source": [
        "max(terror2['nkill'])"
      ],
      "execution_count": 0,
      "outputs": [
        {
          "output_type": "execute_result",
          "data": {
            "text/plain": [
              "1570.0"
            ]
          },
          "metadata": {
            "tags": []
          },
          "execution_count": 57
        }
      ]
    },
    {
      "cell_type": "code",
      "metadata": {
        "id": "bT58dhJbU8YS",
        "colab_type": "code",
        "outputId": "ee8d7a2a-101a-4228-d337-ece5f24f2096",
        "colab": {
          "base_uri": "https://localhost:8080/"
        }
      },
      "source": [
        "statistics.mean(terror2['nperps'])"
      ],
      "execution_count": 0,
      "outputs": [
        {
          "output_type": "execute_result",
          "data": {
            "text/plain": [
              "261.6044548161439"
            ]
          },
          "metadata": {
            "tags": []
          },
          "execution_count": 58
        }
      ]
    },
    {
      "cell_type": "code",
      "metadata": {
        "id": "iGTiGkE4Vtzn",
        "colab_type": "code",
        "outputId": "31f62a28-d607-47c1-a7b7-6f3120eab05a",
        "colab": {
          "base_uri": "https://localhost:8080/"
        }
      },
      "source": [
        "max(terror2['nperps'])"
      ],
      "execution_count": 0,
      "outputs": [
        {
          "output_type": "execute_result",
          "data": {
            "text/plain": [
              "25000.0"
            ]
          },
          "metadata": {
            "tags": []
          },
          "execution_count": 59
        }
      ]
    },
    {
      "cell_type": "code",
      "metadata": {
        "id": "Ye0rhDDnczaR",
        "colab_type": "code",
        "outputId": "a6ba9ad8-d391-4646-c881-6dca04295da9",
        "colab": {
          "base_uri": "https://localhost:8080/"
        }
      },
      "source": [
        "msno.matrix(terror2)"
      ],
      "execution_count": 0,
      "outputs": [
        {
          "output_type": "execute_result",
          "data": {
            "text/plain": [
              "<matplotlib.axes._subplots.AxesSubplot at 0x7f01960fe940>"
            ]
          },
          "metadata": {
            "tags": []
          },
          "execution_count": 60
        },
        {
          "output_type": "display_data",
          "data": {
            "image/png": "[encoded data removed]",
            "text/plain": [
              "<Figure size 1800x720 with 2 Axes>"
            ]
          },
          "metadata": {
            "tags": []
          }
        }
      ]
    },
    {
      "cell_type": "markdown",
      "metadata": {
        "id": "GraB0vAQoemr",
        "colab_type": "text"
      },
      "source": [
        "# **Modelando**"
      ]
    },
    {
      "cell_type": "code",
      "metadata": {
        "id": "U65WtBSMoku8",
        "colab_type": "code",
        "outputId": "b8f15a1f-07ed-4d31-c293-a5b7f4239116",
        "colab": {
          "base_uri": "https://localhost:8080/",
          "height": 374
        }
      },
      "source": [
        "terror2.isna().sum()"
      ],
      "execution_count": 0,
      "outputs": [
        {
          "output_type": "execute_result",
          "data": {
            "text/plain": [
              "iyear             0\n",
              "imonth            0\n",
              "iday              0\n",
              "extended          0\n",
              "country           0\n",
              "region            0\n",
              "latitude       4556\n",
              "longitude      4557\n",
              "success           0\n",
              "suicide           0\n",
              "attacktype1       0\n",
              "targtype1         0\n",
              "target1           0\n",
              "natlty1           0\n",
              "gname             0\n",
              "motive            0\n",
              "guncertain1       0\n",
              "nperps            0\n",
              "weaptype1         0\n",
              "nkill             0\n",
              "dtype: int64"
            ]
          },
          "metadata": {
            "tags": []
          },
          "execution_count": 61
        }
      ]
    },
    {
      "cell_type": "code",
      "metadata": {
        "id": "yCXN9rKPfceI",
        "colab_type": "code",
        "colab": {}
      },
      "source": [
        "terror2.dropna(inplace=True)"
      ],
      "execution_count": 0,
      "outputs": []
    },
    {
      "cell_type": "code",
      "metadata": {
        "id": "VDTHC5yRfc4E",
        "colab_type": "code",
        "colab": {}
      },
      "source": [
        "var_cont = list(terror2.describe().columns)\n",
        "var_disc = [v for v in terror2.columns if v not in var_cont]"
      ],
      "execution_count": 0,
      "outputs": []
    },
    {
      "cell_type": "code",
      "metadata": {
        "id": "OemaW4AYfdOn",
        "colab_type": "code",
        "colab": {}
      },
      "source": [
        "X = terror2[var_cont].copy()"
      ],
      "execution_count": 0,
      "outputs": []
    },
    {
      "cell_type": "code",
      "metadata": {
        "id": "lc1l6W0Efdft",
        "colab_type": "code",
        "colab": {}
      },
      "source": [
        "sc = MinMaxScaler()\n",
        "sc.fit(X)\n",
        "Xs = pd.DataFrame(sc.transform(X),columns=var_cont)"
      ],
      "execution_count": 0,
      "outputs": []
    },
    {
      "cell_type": "code",
      "metadata": {
        "id": "dRpZ0oV0hWYr",
        "colab_type": "code",
        "outputId": "f7a68169-e7d4-4713-9b5d-ac28d2a6212d",
        "colab": {
          "base_uri": "https://localhost:8080/",
          "height": 282
        }
      },
      "source": [
        "lst_in = []\n",
        "for k in range(2,10):\n",
        "    cl = KMeans(n_clusters=k)\n",
        "    cl.fit(Xs)\n",
        "    lst_in.append(cl.inertia_)\n",
        "plt.plot(range(2,10),lst_in,marker='o')"
      ],
      "execution_count": 0,
      "outputs": [
        {
          "output_type": "execute_result",
          "data": {
            "text/plain": [
              "[<matplotlib.lines.Line2D at 0x7f0192f3bac8>]"
            ]
          },
          "metadata": {
            "tags": []
          },
          "execution_count": 66
        },
        {
          "output_type": "display_data",
          "data": {
            "image/png": "[encoded data removed]",
            "text/plain": [
              "<Figure size 432x288 with 1 Axes>"
            ]
          },
          "metadata": {
            "tags": []
          }
        }
      ]
    },
    {
      "cell_type": "code",
      "metadata": {
        "id": "iMhs3hvlhXFr",
        "colab_type": "code",
        "colab": {}
      },
      "source": [
        "cl = GaussianMixture(n_components=5)"
      ],
      "execution_count": 0,
      "outputs": []
    },
    {
      "cell_type": "code",
      "metadata": {
        "id": "npqzaTJxhXWg",
        "colab_type": "code",
        "colab": {}
      },
      "source": [
        "cl.fit(Xs)\n",
        "terror2['cl'] = cl.predict(Xs)"
      ],
      "execution_count": 0,
      "outputs": []
    },
    {
      "cell_type": "code",
      "metadata": {
        "id": "jBESuFBDhXlH",
        "colab_type": "code",
        "outputId": "3acee4ac-3df2-4a9c-b09f-08b13b8ad7cc",
        "colab": {
          "base_uri": "https://localhost:8080/",
          "height": 255
        }
      },
      "source": [
        "terror2.groupby('cl').mean()"
      ],
      "execution_count": 0,
      "outputs": [
        {
          "output_type": "execute_result",
          "data": {
            "text/html": [
              "<div>\n",
              "<style scoped>\n",
              "    .dataframe tbody tr th:only-of-type {\n",
              "        vertical-align: middle;\n",
              "    }\n",
              "\n",
              "    .dataframe tbody tr th {\n",
              "        vertical-align: top;\n",
              "    }\n",
              "\n",
              "    .dataframe thead th {\n",
              "        text-align: right;\n",
              "    }\n",
              "</style>\n",
              "<table border=\"1\" class=\"dataframe\">\n",
              "  <thead>\n",
              "    <tr style=\"text-align: right;\">\n",
              "      <th></th>\n",
              "      <th>iyear</th>\n",
              "      <th>imonth</th>\n",
              "      <th>iday</th>\n",
              "      <th>extended</th>\n",
              "      <th>country</th>\n",
              "      <th>region</th>\n",
              "      <th>latitude</th>\n",
              "      <th>longitude</th>\n",
              "      <th>success</th>\n",
              "      <th>suicide</th>\n",
              "      <th>attacktype1</th>\n",
              "      <th>targtype1</th>\n",
              "      <th>natlty1</th>\n",
              "      <th>guncertain1</th>\n",
              "      <th>nperps</th>\n",
              "      <th>weaptype1</th>\n",
              "      <th>nkill</th>\n",
              "    </tr>\n",
              "    <tr>\n",
              "      <th>cl</th>\n",
              "      <th></th>\n",
              "      <th></th>\n",
              "      <th></th>\n",
              "      <th></th>\n",
              "      <th></th>\n",
              "      <th></th>\n",
              "      <th></th>\n",
              "      <th></th>\n",
              "      <th></th>\n",
              "      <th></th>\n",
              "      <th></th>\n",
              "      <th></th>\n",
              "      <th></th>\n",
              "      <th></th>\n",
              "      <th></th>\n",
              "      <th></th>\n",
              "      <th></th>\n",
              "    </tr>\n",
              "  </thead>\n",
              "  <tbody>\n",
              "    <tr>\n",
              "      <th>0</th>\n",
              "      <td>2006.783323</td>\n",
              "      <td>6.447351</td>\n",
              "      <td>15.448119</td>\n",
              "      <td>0.000000</td>\n",
              "      <td>110.614303</td>\n",
              "      <td>7.716707</td>\n",
              "      <td>21.521660</td>\n",
              "      <td>39.040151</td>\n",
              "      <td>1.0</td>\n",
              "      <td>0.307801</td>\n",
              "      <td>2.720369</td>\n",
              "      <td>8.087580</td>\n",
              "      <td>154.313412</td>\n",
              "      <td>0.510778</td>\n",
              "      <td>170.348019</td>\n",
              "      <td>5.720369</td>\n",
              "      <td>7.237229</td>\n",
              "    </tr>\n",
              "    <tr>\n",
              "      <th>1</th>\n",
              "      <td>2007.708661</td>\n",
              "      <td>6.599738</td>\n",
              "      <td>15.765748</td>\n",
              "      <td>0.225722</td>\n",
              "      <td>240.156824</td>\n",
              "      <td>8.764436</td>\n",
              "      <td>21.555515</td>\n",
              "      <td>32.813151</td>\n",
              "      <td>1.0</td>\n",
              "      <td>0.219816</td>\n",
              "      <td>4.534777</td>\n",
              "      <td>9.059055</td>\n",
              "      <td>245.515092</td>\n",
              "      <td>0.101050</td>\n",
              "      <td>159.149606</td>\n",
              "      <td>7.666667</td>\n",
              "      <td>53.932415</td>\n",
              "    </tr>\n",
              "    <tr>\n",
              "      <th>2</th>\n",
              "      <td>2001.580656</td>\n",
              "      <td>6.465036</td>\n",
              "      <td>15.491862</td>\n",
              "      <td>0.000000</td>\n",
              "      <td>131.035291</td>\n",
              "      <td>7.056818</td>\n",
              "      <td>23.334850</td>\n",
              "      <td>-654.052368</td>\n",
              "      <td>1.0</td>\n",
              "      <td>0.000000</td>\n",
              "      <td>3.144949</td>\n",
              "      <td>8.260907</td>\n",
              "      <td>120.727479</td>\n",
              "      <td>0.000000</td>\n",
              "      <td>290.147461</td>\n",
              "      <td>6.323772</td>\n",
              "      <td>1.416108</td>\n",
              "    </tr>\n",
              "    <tr>\n",
              "      <th>3</th>\n",
              "      <td>2006.079085</td>\n",
              "      <td>6.480419</td>\n",
              "      <td>15.397957</td>\n",
              "      <td>0.634875</td>\n",
              "      <td>144.086344</td>\n",
              "      <td>7.333980</td>\n",
              "      <td>21.875263</td>\n",
              "      <td>33.128234</td>\n",
              "      <td>1.0</td>\n",
              "      <td>0.000000</td>\n",
              "      <td>5.311023</td>\n",
              "      <td>8.592927</td>\n",
              "      <td>144.115378</td>\n",
              "      <td>0.381499</td>\n",
              "      <td>168.110398</td>\n",
              "      <td>8.350523</td>\n",
              "      <td>1.329001</td>\n",
              "    </tr>\n",
              "    <tr>\n",
              "      <th>4</th>\n",
              "      <td>2005.882932</td>\n",
              "      <td>6.493039</td>\n",
              "      <td>15.797589</td>\n",
              "      <td>0.002118</td>\n",
              "      <td>144.144406</td>\n",
              "      <td>7.416625</td>\n",
              "      <td>27.354102</td>\n",
              "      <td>35.934611</td>\n",
              "      <td>0.0</td>\n",
              "      <td>0.053465</td>\n",
              "      <td>2.984213</td>\n",
              "      <td>9.570766</td>\n",
              "      <td>128.437758</td>\n",
              "      <td>0.062443</td>\n",
              "      <td>145.804751</td>\n",
              "      <td>6.497781</td>\n",
              "      <td>0.728589</td>\n",
              "    </tr>\n",
              "  </tbody>\n",
              "</table>\n",
              "</div>"
            ],
            "text/plain": [
              "          iyear    imonth       iday  ...      nperps  weaptype1      nkill\n",
              "cl                                    ...                                  \n",
              "0   2006.783323  6.447351  15.448119  ...  170.348019   5.720369   7.237229\n",
              "1   2007.708661  6.599738  15.765748  ...  159.149606   7.666667  53.932415\n",
              "2   2001.580656  6.465036  15.491862  ...  290.147461   6.323772   1.416108\n",
              "3   2006.079085  6.480419  15.397957  ...  168.110398   8.350523   1.329001\n",
              "4   2005.882932  6.493039  15.797589  ...  145.804751   6.497781   0.728589\n",
              "\n",
              "[5 rows x 17 columns]"
            ]
          },
          "metadata": {
            "tags": []
          },
          "execution_count": 69
        }
      ]
    },
    {
      "cell_type": "code",
      "metadata": {
        "id": "bivZxOVBh4Lp",
        "colab_type": "code",
        "outputId": "9d1e8691-5b7f-42d1-f3f5-0d0e1dd1adb2",
        "colab": {
          "base_uri": "https://localhost:8080/",
          "height": 100
        }
      },
      "source": [
        "terror2.mean().T.to_frame().T"
      ],
      "execution_count": 0,
      "outputs": [
        {
          "output_type": "execute_result",
          "data": {
            "text/html": [
              "<div>\n",
              "<style scoped>\n",
              "    .dataframe tbody tr th:only-of-type {\n",
              "        vertical-align: middle;\n",
              "    }\n",
              "\n",
              "    .dataframe tbody tr th {\n",
              "        vertical-align: top;\n",
              "    }\n",
              "\n",
              "    .dataframe thead th {\n",
              "        text-align: right;\n",
              "    }\n",
              "</style>\n",
              "<table border=\"1\" class=\"dataframe\">\n",
              "  <thead>\n",
              "    <tr style=\"text-align: right;\">\n",
              "      <th></th>\n",
              "      <th>iyear</th>\n",
              "      <th>imonth</th>\n",
              "      <th>iday</th>\n",
              "      <th>extended</th>\n",
              "      <th>country</th>\n",
              "      <th>region</th>\n",
              "      <th>latitude</th>\n",
              "      <th>longitude</th>\n",
              "      <th>success</th>\n",
              "      <th>suicide</th>\n",
              "      <th>attacktype1</th>\n",
              "      <th>targtype1</th>\n",
              "      <th>natlty1</th>\n",
              "      <th>guncertain1</th>\n",
              "      <th>nperps</th>\n",
              "      <th>weaptype1</th>\n",
              "      <th>nkill</th>\n",
              "      <th>cl</th>\n",
              "    </tr>\n",
              "  </thead>\n",
              "  <tbody>\n",
              "    <tr>\n",
              "      <th>0</th>\n",
              "      <td>2002.91315</td>\n",
              "      <td>6.468668</td>\n",
              "      <td>15.517975</td>\n",
              "      <td>0.044644</td>\n",
              "      <td>132.362212</td>\n",
              "      <td>7.193402</td>\n",
              "      <td>23.498444</td>\n",
              "      <td>-458.695653</td>\n",
              "      <td>0.888073</td>\n",
              "      <td>0.037299</td>\n",
              "      <td>3.243211</td>\n",
              "      <td>8.420021</td>\n",
              "      <td>127.439069</td>\n",
              "      <td>0.082203</td>\n",
              "      <td>253.249754</td>\n",
              "      <td>6.432684</td>\n",
              "      <td>2.341628</td>\n",
              "      <td>2.090948</td>\n",
              "    </tr>\n",
              "  </tbody>\n",
              "</table>\n",
              "</div>"
            ],
            "text/plain": [
              "        iyear    imonth       iday  ...  weaptype1     nkill        cl\n",
              "0  2002.91315  6.468668  15.517975  ...   6.432684  2.341628  2.090948\n",
              "\n",
              "[1 rows x 18 columns]"
            ]
          },
          "metadata": {
            "tags": []
          },
          "execution_count": 70
        }
      ]
    },
    {
      "cell_type": "code",
      "metadata": {
        "id": "RHxzpxpgh4dj",
        "colab_type": "code",
        "colab": {}
      },
      "source": [
        "terror2['n'] = 1"
      ],
      "execution_count": 0,
      "outputs": []
    },
    {
      "cell_type": "code",
      "metadata": {
        "id": "Zp-BxK0Bh4tL",
        "colab_type": "code",
        "colab": {}
      },
      "source": [
        "aux = terror2[['cl','attacktype1','n']].copy()\n",
        "\n",
        "aux = aux.pivot_table(index='attacktype1',columns='cl',aggfunc='sum',values='n')"
      ],
      "execution_count": 0,
      "outputs": []
    },
    {
      "cell_type": "code",
      "metadata": {
        "id": "ukeWSclUi9EU",
        "colab_type": "code",
        "colab": {}
      },
      "source": [
        "for c in range(5):\n",
        "    aux[c]/=aux[c].sum()"
      ],
      "execution_count": 0,
      "outputs": []
    },
    {
      "cell_type": "code",
      "metadata": {
        "id": "8PehbbUZi9jX",
        "colab_type": "code",
        "outputId": "ececf92c-9c9d-4c7b-a44e-32c90f25b20a",
        "colab": {
          "base_uri": "https://localhost:8080/",
          "height": 359
        }
      },
      "source": [
        "aux.sort_values(4).tail(20)"
      ],
      "execution_count": 0,
      "outputs": [
        {
          "output_type": "execute_result",
          "data": {
            "text/html": [
              "<div>\n",
              "<style scoped>\n",
              "    .dataframe tbody tr th:only-of-type {\n",
              "        vertical-align: middle;\n",
              "    }\n",
              "\n",
              "    .dataframe tbody tr th {\n",
              "        vertical-align: top;\n",
              "    }\n",
              "\n",
              "    .dataframe thead th {\n",
              "        text-align: right;\n",
              "    }\n",
              "</style>\n",
              "<table border=\"1\" class=\"dataframe\">\n",
              "  <thead>\n",
              "    <tr style=\"text-align: right;\">\n",
              "      <th>cl</th>\n",
              "      <th>0</th>\n",
              "      <th>1</th>\n",
              "      <th>2</th>\n",
              "      <th>3</th>\n",
              "      <th>4</th>\n",
              "    </tr>\n",
              "    <tr>\n",
              "      <th>attacktype1</th>\n",
              "      <th></th>\n",
              "      <th></th>\n",
              "      <th></th>\n",
              "      <th></th>\n",
              "      <th></th>\n",
              "    </tr>\n",
              "  </thead>\n",
              "  <tbody>\n",
              "    <tr>\n",
              "      <th>5</th>\n",
              "      <td>NaN</td>\n",
              "      <td>0.053150</td>\n",
              "      <td>0.005921</td>\n",
              "      <td>0.010213</td>\n",
              "      <td>0.000404</td>\n",
              "    </tr>\n",
              "    <tr>\n",
              "      <th>4</th>\n",
              "      <td>0.000059</td>\n",
              "      <td>0.010499</td>\n",
              "      <td>0.002811</td>\n",
              "      <td>0.015108</td>\n",
              "      <td>0.003833</td>\n",
              "    </tr>\n",
              "    <tr>\n",
              "      <th>8</th>\n",
              "      <td>NaN</td>\n",
              "      <td>0.006562</td>\n",
              "      <td>0.006000</td>\n",
              "      <td>0.007849</td>\n",
              "      <td>0.006103</td>\n",
              "    </tr>\n",
              "    <tr>\n",
              "      <th>6</th>\n",
              "      <td>NaN</td>\n",
              "      <td>0.171260</td>\n",
              "      <td>0.025023</td>\n",
              "      <td>0.589804</td>\n",
              "      <td>0.012307</td>\n",
              "    </tr>\n",
              "    <tr>\n",
              "      <th>7</th>\n",
              "      <td>NaN</td>\n",
              "      <td>0.022966</td>\n",
              "      <td>0.065479</td>\n",
              "      <td>0.106431</td>\n",
              "      <td>0.028952</td>\n",
              "    </tr>\n",
              "    <tr>\n",
              "      <th>9</th>\n",
              "      <td>NaN</td>\n",
              "      <td>0.203412</td>\n",
              "      <td>0.037424</td>\n",
              "      <td>0.051992</td>\n",
              "      <td>0.063149</td>\n",
              "    </tr>\n",
              "    <tr>\n",
              "      <th>2</th>\n",
              "      <td>0.279691</td>\n",
              "      <td>0.287402</td>\n",
              "      <td>0.257065</td>\n",
              "      <td>0.082799</td>\n",
              "      <td>0.116211</td>\n",
              "    </tr>\n",
              "    <tr>\n",
              "      <th>1</th>\n",
              "      <td>NaN</td>\n",
              "      <td>0.076772</td>\n",
              "      <td>0.102084</td>\n",
              "      <td>0.094024</td>\n",
              "      <td>0.233179</td>\n",
              "    </tr>\n",
              "    <tr>\n",
              "      <th>3</th>\n",
              "      <td>0.720250</td>\n",
              "      <td>0.167979</td>\n",
              "      <td>0.498193</td>\n",
              "      <td>0.041779</td>\n",
              "      <td>0.535862</td>\n",
              "    </tr>\n",
              "  </tbody>\n",
              "</table>\n",
              "</div>"
            ],
            "text/plain": [
              "cl                  0         1         2         3         4\n",
              "attacktype1                                                  \n",
              "5                 NaN  0.053150  0.005921  0.010213  0.000404\n",
              "4            0.000059  0.010499  0.002811  0.015108  0.003833\n",
              "8                 NaN  0.006562  0.006000  0.007849  0.006103\n",
              "6                 NaN  0.171260  0.025023  0.589804  0.012307\n",
              "7                 NaN  0.022966  0.065479  0.106431  0.028952\n",
              "9                 NaN  0.203412  0.037424  0.051992  0.063149\n",
              "2            0.279691  0.287402  0.257065  0.082799  0.116211\n",
              "1                 NaN  0.076772  0.102084  0.094024  0.233179\n",
              "3            0.720250  0.167979  0.498193  0.041779  0.535862"
            ]
          },
          "metadata": {
            "tags": []
          },
          "execution_count": 74
        }
      ]
    },
    {
      "cell_type": "code",
      "metadata": {
        "id": "oj4F3tBnt09R",
        "colab_type": "code",
        "colab": {}
      },
      "source": [
        "aux = terror2[['cl','iyear','n']].copy()\n",
        "\n",
        "aux = aux.pivot_table(index='iyear',columns='cl',aggfunc='sum',values='n')"
      ],
      "execution_count": 0,
      "outputs": []
    },
    {
      "cell_type": "code",
      "metadata": {
        "id": "Speo2U1_t16N",
        "colab_type": "code",
        "colab": {}
      },
      "source": [
        "for c in range(5):\n",
        "    aux[c]/=aux[c].sum()"
      ],
      "execution_count": 0,
      "outputs": []
    },
    {
      "cell_type": "code",
      "metadata": {
        "id": "N_E2QQk5t61R",
        "colab_type": "code",
        "colab": {}
      },
      "source": [
        "aux.sort_values(4).tail(20).to_csv('REGIONES.csv')"
      ],
      "execution_count": 0,
      "outputs": []
    },
    {
      "cell_type": "code",
      "metadata": {
        "id": "ubsyGJGavLUZ",
        "colab_type": "code",
        "colab": {}
      },
      "source": [
        "aux = terror2[['cl','region','n']].copy()\n",
        "\n",
        "aux = aux.pivot_table(index='region',columns='cl',aggfunc='sum',values='n')"
      ],
      "execution_count": 0,
      "outputs": []
    },
    {
      "cell_type": "code",
      "metadata": {
        "id": "5__agPVqvMZT",
        "colab_type": "code",
        "colab": {}
      },
      "source": [
        "for c in range(5):\n",
        "    aux[c]/=aux[c].sum()"
      ],
      "execution_count": 0,
      "outputs": []
    },
    {
      "cell_type": "code",
      "metadata": {
        "id": "xZUJEvMFvMMj",
        "colab_type": "code",
        "outputId": "4f8518aa-e612-4a05-9e47-e488ee8a7963",
        "colab": {
          "base_uri": "https://localhost:8080/",
          "height": 452
        }
      },
      "source": [
        "aux.sort_values(0).tail(20)"
      ],
      "execution_count": 0,
      "outputs": [
        {
          "output_type": "execute_result",
          "data": {
            "text/html": [
              "<div>\n",
              "<style scoped>\n",
              "    .dataframe tbody tr th:only-of-type {\n",
              "        vertical-align: middle;\n",
              "    }\n",
              "\n",
              "    .dataframe tbody tr th {\n",
              "        vertical-align: top;\n",
              "    }\n",
              "\n",
              "    .dataframe thead th {\n",
              "        text-align: right;\n",
              "    }\n",
              "</style>\n",
              "<table border=\"1\" class=\"dataframe\">\n",
              "  <thead>\n",
              "    <tr style=\"text-align: right;\">\n",
              "      <th>cl</th>\n",
              "      <th>0</th>\n",
              "      <th>1</th>\n",
              "      <th>2</th>\n",
              "      <th>3</th>\n",
              "      <th>4</th>\n",
              "    </tr>\n",
              "    <tr>\n",
              "      <th>region</th>\n",
              "      <th></th>\n",
              "      <th></th>\n",
              "      <th></th>\n",
              "      <th></th>\n",
              "      <th></th>\n",
              "    </tr>\n",
              "  </thead>\n",
              "  <tbody>\n",
              "    <tr>\n",
              "      <th>12</th>\n",
              "      <td>0.000413</td>\n",
              "      <td>NaN</td>\n",
              "      <td>0.001732</td>\n",
              "      <td>0.001013</td>\n",
              "      <td>0.001866</td>\n",
              "    </tr>\n",
              "    <tr>\n",
              "      <th>4</th>\n",
              "      <td>0.001772</td>\n",
              "      <td>0.005249</td>\n",
              "      <td>0.004756</td>\n",
              "      <td>0.002532</td>\n",
              "      <td>0.006154</td>\n",
              "    </tr>\n",
              "    <tr>\n",
              "      <th>7</th>\n",
              "      <td>0.002421</td>\n",
              "      <td>0.001312</td>\n",
              "      <td>0.003197</td>\n",
              "      <td>0.003545</td>\n",
              "      <td>0.002875</td>\n",
              "    </tr>\n",
              "    <tr>\n",
              "      <th>1</th>\n",
              "      <td>0.002598</td>\n",
              "      <td>0.009186</td>\n",
              "      <td>0.020370</td>\n",
              "      <td>0.020679</td>\n",
              "      <td>0.028246</td>\n",
              "    </tr>\n",
              "    <tr>\n",
              "      <th>9</th>\n",
              "      <td>0.018189</td>\n",
              "      <td>0.055774</td>\n",
              "      <td>0.028763</td>\n",
              "      <td>0.030891</td>\n",
              "      <td>0.035559</td>\n",
              "    </tr>\n",
              "    <tr>\n",
              "      <th>2</th>\n",
              "      <td>0.024863</td>\n",
              "      <td>0.032808</td>\n",
              "      <td>0.065101</td>\n",
              "      <td>0.021016</td>\n",
              "      <td>0.017956</td>\n",
              "    </tr>\n",
              "    <tr>\n",
              "      <th>8</th>\n",
              "      <td>0.031949</td>\n",
              "      <td>0.009186</td>\n",
              "      <td>0.099880</td>\n",
              "      <td>0.066678</td>\n",
              "      <td>0.123676</td>\n",
              "    </tr>\n",
              "    <tr>\n",
              "      <th>5</th>\n",
              "      <td>0.059115</td>\n",
              "      <td>0.017060</td>\n",
              "      <td>0.068896</td>\n",
              "      <td>0.071995</td>\n",
              "      <td>0.066377</td>\n",
              "    </tr>\n",
              "    <tr>\n",
              "      <th>3</th>\n",
              "      <td>0.080730</td>\n",
              "      <td>0.026247</td>\n",
              "      <td>0.111541</td>\n",
              "      <td>0.102465</td>\n",
              "      <td>0.066731</td>\n",
              "    </tr>\n",
              "    <tr>\n",
              "      <th>11</th>\n",
              "      <td>0.176578</td>\n",
              "      <td>0.333333</td>\n",
              "      <td>0.079581</td>\n",
              "      <td>0.182056</td>\n",
              "      <td>0.062998</td>\n",
              "    </tr>\n",
              "    <tr>\n",
              "      <th>10</th>\n",
              "      <td>0.281935</td>\n",
              "      <td>0.298556</td>\n",
              "      <td>0.283639</td>\n",
              "      <td>0.189990</td>\n",
              "      <td>0.306365</td>\n",
              "    </tr>\n",
              "    <tr>\n",
              "      <th>6</th>\n",
              "      <td>0.319435</td>\n",
              "      <td>0.211286</td>\n",
              "      <td>0.232546</td>\n",
              "      <td>0.307140</td>\n",
              "      <td>0.281196</td>\n",
              "    </tr>\n",
              "  </tbody>\n",
              "</table>\n",
              "</div>"
            ],
            "text/plain": [
              "cl             0         1         2         3         4\n",
              "region                                                  \n",
              "12      0.000413       NaN  0.001732  0.001013  0.001866\n",
              "4       0.001772  0.005249  0.004756  0.002532  0.006154\n",
              "7       0.002421  0.001312  0.003197  0.003545  0.002875\n",
              "1       0.002598  0.009186  0.020370  0.020679  0.028246\n",
              "9       0.018189  0.055774  0.028763  0.030891  0.035559\n",
              "2       0.024863  0.032808  0.065101  0.021016  0.017956\n",
              "8       0.031949  0.009186  0.099880  0.066678  0.123676\n",
              "5       0.059115  0.017060  0.068896  0.071995  0.066377\n",
              "3       0.080730  0.026247  0.111541  0.102465  0.066731\n",
              "11      0.176578  0.333333  0.079581  0.182056  0.062998\n",
              "10      0.281935  0.298556  0.283639  0.189990  0.306365\n",
              "6       0.319435  0.211286  0.232546  0.307140  0.281196"
            ]
          },
          "metadata": {
            "tags": []
          },
          "execution_count": 87
        }
      ]
    },
    {
      "cell_type": "code",
      "metadata": {
        "id": "TUVZKgN5n4De",
        "colab_type": "code",
        "outputId": "e1aacef3-8a7c-4490-d4f3-f362167076e4",
        "colab": {
          "base_uri": "https://localhost:8080/",
          "height": 85
        }
      },
      "source": [
        "path='base_terrorismo_unos.csv'\n",
        "terror=pd.read_csv(path,encoding='latin',error_bad_lines=False)"
      ],
      "execution_count": 0,
      "outputs": [
        {
          "output_type": "stream",
          "text": [
            "/usr/local/lib/python3.6/dist-packages/IPython/core/interactiveshell.py:2718: DtypeWarning:\n",
            "\n",
            "Columns (26,27,28) have mixed types. Specify dtype option on import or set low_memory=False.\n",
            "\n"
          ],
          "name": "stderr"
        }
      ]
    },
    {
      "cell_type": "code",
      "metadata": {
        "id": "0emfutA3i9xx",
        "colab_type": "code",
        "outputId": "a7429326-eca6-4282-de91-a17a8fe22fc2",
        "colab": {
          "base_uri": "https://localhost:8080/",
          "height": 391
        }
      },
      "source": [
        "terror.groupby(['gname']).sum()['unos'].sort_values().tail(20)"
      ],
      "execution_count": 0,
      "outputs": [
        {
          "output_type": "execute_result",
          "data": {
            "text/plain": [
              "gname\n",
              "Al-Qaida in the Arabian Peninsula (AQAP)             1020\n",
              "Houthi extremists (Ansar Allah)                      1062\n",
              "Palestinians                                         1125\n",
              "Tehrik-i-Taliban Pakistan (TTP)                      1351\n",
              "National Liberation Army of Colombia (ELN)           1561\n",
              "Liberation Tigers of Tamil Eelam (LTTE)              1606\n",
              "Maoists                                              1630\n",
              "Communist Party of India - Maoist (CPI-Maoist)       1878\n",
              "Basque Fatherland and Freedom (ETA)                  2024\n",
              "Kurdistan Workers' Party (PKK)                       2310\n",
              "Boko Haram                                           2418\n",
              "Revolutionary Armed Forces of Colombia (FARC)        2487\n",
              "Irish Republican Army (IRA)                          2671\n",
              "New People's Army (NPA)                              2772\n",
              "Al-Shabaab                                           3288\n",
              "Farabundo Marti National Liberation Front (FMLN)     3351\n",
              "Shining Path (SL)                                    4555\n",
              "Islamic State of Iraq and the Levant (ISIL)          5613\n",
              "Taliban                                              7478\n",
              "Unknown                                             82782\n",
              "Name: unos, dtype: int64"
            ]
          },
          "metadata": {
            "tags": []
          },
          "execution_count": 4
        }
      ]
    },
    {
      "cell_type": "code",
      "metadata": {
        "id": "P5YOrudpsxGt",
        "colab_type": "code",
        "outputId": "fe27709f-a5ba-4cb5-c963-b7dc2ecfb317",
        "colab": {
          "base_uri": "https://localhost:8080/",
          "height": 391
        }
      },
      "source": [
        "terror.groupby(['gname']).count()['iyear'].sort_values().tail(20)"
      ],
      "execution_count": 0,
      "outputs": [
        {
          "output_type": "execute_result",
          "data": {
            "text/plain": [
              "gname\n",
              "Al-Qaida in the Arabian Peninsula (AQAP)             1020\n",
              "Houthi extremists (Ansar Allah)                      1062\n",
              "Palestinians                                         1125\n",
              "Tehrik-i-Taliban Pakistan (TTP)                      1351\n",
              "National Liberation Army of Colombia (ELN)           1561\n",
              "Liberation Tigers of Tamil Eelam (LTTE)              1606\n",
              "Maoists                                              1630\n",
              "Communist Party of India - Maoist (CPI-Maoist)       1878\n",
              "Basque Fatherland and Freedom (ETA)                  2024\n",
              "Kurdistan Workers' Party (PKK)                       2310\n",
              "Boko Haram                                           2418\n",
              "Revolutionary Armed Forces of Colombia (FARC)        2487\n",
              "Irish Republican Army (IRA)                          2671\n",
              "New People's Army (NPA)                              2772\n",
              "Al-Shabaab                                           3288\n",
              "Farabundo Marti National Liberation Front (FMLN)     3351\n",
              "Shining Path (SL)                                    4555\n",
              "Islamic State of Iraq and the Levant (ISIL)          5613\n",
              "Taliban                                              7478\n",
              "Unknown                                             82782\n",
              "Name: iyear, dtype: int64"
            ]
          },
          "metadata": {
            "tags": []
          },
          "execution_count": 20
        }
      ]
    },
    {
      "cell_type": "code",
      "metadata": {
        "id": "MSgmRBKrz5xf",
        "colab_type": "code",
        "colab": {}
      },
      "source": [
        "path='Libro1.csv'\n",
        "terror123=pd.read_csv(path,encoding='latin',error_bad_lines=False)"
      ],
      "execution_count": 0,
      "outputs": []
    },
    {
      "cell_type": "code",
      "metadata": {
        "id": "YuRA2cAP0LDs",
        "colab_type": "code",
        "outputId": "9ac50109-6958-4ec8-cec7-3da2de642702",
        "colab": {
          "base_uri": "https://localhost:8080/",
          "height": 34
        }
      },
      "source": [
        "terror123.shape"
      ],
      "execution_count": 0,
      "outputs": [
        {
          "output_type": "execute_result",
          "data": {
            "text/plain": [
              "(190, 5)"
            ]
          },
          "metadata": {
            "tags": []
          },
          "execution_count": 15
        }
      ]
    },
    {
      "cell_type": "code",
      "metadata": {
        "id": "xIEYy2Ua0OfR",
        "colab_type": "code",
        "colab": {}
      },
      "source": [
        "reglas=terror123.dropna()"
      ],
      "execution_count": 0,
      "outputs": []
    },
    {
      "cell_type": "code",
      "metadata": {
        "id": "uFFTCbkd0VLD",
        "colab_type": "code",
        "outputId": "e0a1b92d-bce7-4c87-edfd-4a2284077400",
        "colab": {
          "base_uri": "https://localhost:8080/",
          "height": 419
        }
      },
      "source": [
        "reglas"
      ],
      "execution_count": 0,
      "outputs": [
        {
          "output_type": "execute_result",
          "data": {
            "text/html": [
              "<div>\n",
              "<style scoped>\n",
              "    .dataframe tbody tr th:only-of-type {\n",
              "        vertical-align: middle;\n",
              "    }\n",
              "\n",
              "    .dataframe tbody tr th {\n",
              "        vertical-align: top;\n",
              "    }\n",
              "\n",
              "    .dataframe thead th {\n",
              "        text-align: right;\n",
              "    }\n",
              "</style>\n",
              "<table border=\"1\" class=\"dataframe\">\n",
              "  <thead>\n",
              "    <tr style=\"text-align: right;\">\n",
              "      <th></th>\n",
              "      <th>rhs</th>\n",
              "      <th>lhs</th>\n",
              "      <th>support</th>\n",
              "      <th>confidence</th>\n",
              "      <th>lift</th>\n",
              "    </tr>\n",
              "  </thead>\n",
              "  <tbody>\n",
              "    <tr>\n",
              "      <th>0</th>\n",
              "      <td>('Corsican National Liberation Front (FLNC)',)</td>\n",
              "      <td>('France', 'Bombing/Explosion')</td>\n",
              "      <td>0.003269</td>\n",
              "      <td>0.929577</td>\n",
              "      <td>80.734158</td>\n",
              "    </tr>\n",
              "    <tr>\n",
              "      <th>1</th>\n",
              "      <td>('Nicaraguan Democratic Force (FDN)',)</td>\n",
              "      <td>('nan', 'Armed Assault')</td>\n",
              "      <td>0.004007</td>\n",
              "      <td>0.813408</td>\n",
              "      <td>4.853812</td>\n",
              "    </tr>\n",
              "    <tr>\n",
              "      <th>2</th>\n",
              "      <td>(\"New People's Army (NPA)\",)</td>\n",
              "      <td>('Philippines', 'nan')</td>\n",
              "      <td>0.010633</td>\n",
              "      <td>0.696970</td>\n",
              "      <td>27.807009</td>\n",
              "    </tr>\n",
              "    <tr>\n",
              "      <th>3</th>\n",
              "      <td>('Basque Fatherland and Freedom (ETA)',)</td>\n",
              "      <td>('Spain', 'Bombing/Explosion')</td>\n",
              "      <td>0.006456</td>\n",
              "      <td>0.579545</td>\n",
              "      <td>55.361826</td>\n",
              "    </tr>\n",
              "    <tr>\n",
              "      <th>4</th>\n",
              "      <td>('Liberation Tigers of Tamil Eelam (LTTE)',)</td>\n",
              "      <td>('Sri Lanka', 'nan')</td>\n",
              "      <td>0.005009</td>\n",
              "      <td>0.566625</td>\n",
              "      <td>48.699475</td>\n",
              "    </tr>\n",
              "    <tr>\n",
              "      <th>...</th>\n",
              "      <td>...</td>\n",
              "      <td>...</td>\n",
              "      <td>...</td>\n",
              "      <td>...</td>\n",
              "      <td>...</td>\n",
              "    </tr>\n",
              "    <tr>\n",
              "      <th>185</th>\n",
              "      <td>('Military',)</td>\n",
              "      <td>('nan', 'Nicaraguan Democratic Force (FDN)')</td>\n",
              "      <td>0.003181</td>\n",
              "      <td>0.020655</td>\n",
              "      <td>4.193034</td>\n",
              "    </tr>\n",
              "    <tr>\n",
              "      <th>186</th>\n",
              "      <td>('Armed Assault',)</td>\n",
              "      <td>('Nicaragua', 'Military')</td>\n",
              "      <td>0.004832</td>\n",
              "      <td>0.020577</td>\n",
              "      <td>3.818852</td>\n",
              "    </tr>\n",
              "    <tr>\n",
              "      <th>187</th>\n",
              "      <td>('Armed Assault',)</td>\n",
              "      <td>('Nicaragua', 'Military', 'nan')</td>\n",
              "      <td>0.004832</td>\n",
              "      <td>0.020577</td>\n",
              "      <td>3.822756</td>\n",
              "    </tr>\n",
              "    <tr>\n",
              "      <th>188</th>\n",
              "      <td>('Military',)</td>\n",
              "      <td>('Nicaragua', 'Nicaraguan Democratic Force (FD...</td>\n",
              "      <td>0.003137</td>\n",
              "      <td>0.020369</td>\n",
              "      <td>4.177003</td>\n",
              "    </tr>\n",
              "    <tr>\n",
              "      <th>189</th>\n",
              "      <td>('Military',)</td>\n",
              "      <td>('Nicaragua', 'nan', 'Nicaraguan Democratic Fo...</td>\n",
              "      <td>0.003137</td>\n",
              "      <td>0.020369</td>\n",
              "      <td>4.177003</td>\n",
              "    </tr>\n",
              "  </tbody>\n",
              "</table>\n",
              "<p>190 rows × 5 columns</p>\n",
              "</div>"
            ],
            "text/plain": [
              "                                                rhs  ...       lift\n",
              "0    ('Corsican National Liberation Front (FLNC)',)  ...  80.734158\n",
              "1            ('Nicaraguan Democratic Force (FDN)',)  ...   4.853812\n",
              "2                      (\"New People's Army (NPA)\",)  ...  27.807009\n",
              "3          ('Basque Fatherland and Freedom (ETA)',)  ...  55.361826\n",
              "4      ('Liberation Tigers of Tamil Eelam (LTTE)',)  ...  48.699475\n",
              "..                                              ...  ...        ...\n",
              "185                                   ('Military',)  ...   4.193034\n",
              "186                              ('Armed Assault',)  ...   3.818852\n",
              "187                              ('Armed Assault',)  ...   3.822756\n",
              "188                                   ('Military',)  ...   4.177003\n",
              "189                                   ('Military',)  ...   4.177003\n",
              "\n",
              "[190 rows x 5 columns]"
            ]
          },
          "metadata": {
            "tags": []
          },
          "execution_count": 19
        }
      ]
    }
  ]
}